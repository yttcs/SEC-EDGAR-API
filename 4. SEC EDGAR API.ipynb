{
 "cells": [
  {
   "cell_type": "code",
   "execution_count": 1,
   "id": "9b6820a1",
   "metadata": {},
   "outputs": [],
   "source": [
    "import pandas as pd\n",
    "import requests\n",
    "import plotly.graph_objects as go\n",
    "from plotly.subplots import make_subplots"
   ]
  },
  {
   "cell_type": "code",
   "execution_count": 2,
   "id": "f9c90da1",
   "metadata": {},
   "outputs": [],
   "source": [
    "headers = {'User-Agent': \"your email address\"}"
   ]
  },
  {
   "cell_type": "code",
   "execution_count": 3,
   "id": "9dc84a3d",
   "metadata": {},
   "outputs": [],
   "source": [
    "# API call to get mapping between CIK and Tickers  \n",
    "tickers_cik = requests.get(\"https://www.sec.gov/files/company_tickers.json\", headers=headers)"
   ]
  },
  {
   "cell_type": "code",
   "execution_count": 5,
   "id": "5ec7de5e",
   "metadata": {},
   "outputs": [],
   "source": [
    "# JSON object to Pandas DF\n",
    "tickers_cik = pd.json_normalize(pd.json_normalize(tickers_cik.json(),\\\n",
    "max_level=0).values[0])\n",
    "tickers_cik[\"cik_str\"] = tickers_cik[\"cik_str\"].astype(str).str.zfill(10)\n",
    "tickers_cik.set_index(\"ticker\",inplace=True)\n",
    "\n",
    "# This dataframe can then be used to query the CIK numbers of any set of desired (USA-based, publicly-traded) companies, \n",
    "# and use these CIK numbers for further API calls."
   ]
  },
  {
   "cell_type": "code",
   "execution_count": 6,
   "id": "058bda4c",
   "metadata": {},
   "outputs": [
    {
     "data": {
      "text/html": [
       "<div>\n",
       "<style scoped>\n",
       "    .dataframe tbody tr th:only-of-type {\n",
       "        vertical-align: middle;\n",
       "    }\n",
       "\n",
       "    .dataframe tbody tr th {\n",
       "        vertical-align: top;\n",
       "    }\n",
       "\n",
       "    .dataframe thead th {\n",
       "        text-align: right;\n",
       "    }\n",
       "</style>\n",
       "<table border=\"1\" class=\"dataframe\">\n",
       "  <thead>\n",
       "    <tr style=\"text-align: right;\">\n",
       "      <th></th>\n",
       "      <th>cik_str</th>\n",
       "      <th>title</th>\n",
       "    </tr>\n",
       "    <tr>\n",
       "      <th>ticker</th>\n",
       "      <th></th>\n",
       "      <th></th>\n",
       "    </tr>\n",
       "  </thead>\n",
       "  <tbody>\n",
       "    <tr>\n",
       "      <th>AAPL</th>\n",
       "      <td>0000320193</td>\n",
       "      <td>Apple Inc.</td>\n",
       "    </tr>\n",
       "    <tr>\n",
       "      <th>MSFT</th>\n",
       "      <td>0000789019</td>\n",
       "      <td>MICROSOFT CORP</td>\n",
       "    </tr>\n",
       "    <tr>\n",
       "      <th>BRK-B</th>\n",
       "      <td>0001067983</td>\n",
       "      <td>BERKSHIRE HATHAWAY INC</td>\n",
       "    </tr>\n",
       "    <tr>\n",
       "      <th>UNH</th>\n",
       "      <td>0000731766</td>\n",
       "      <td>UNITEDHEALTH GROUP INC</td>\n",
       "    </tr>\n",
       "    <tr>\n",
       "      <th>XOM</th>\n",
       "      <td>0000034088</td>\n",
       "      <td>EXXON MOBIL CORP</td>\n",
       "    </tr>\n",
       "  </tbody>\n",
       "</table>\n",
       "</div>"
      ],
      "text/plain": [
       "           cik_str                   title\n",
       "ticker                                    \n",
       "AAPL    0000320193              Apple Inc.\n",
       "MSFT    0000789019          MICROSOFT CORP\n",
       "BRK-B   0001067983  BERKSHIRE HATHAWAY INC\n",
       "UNH     0000731766  UNITEDHEALTH GROUP INC\n",
       "XOM     0000034088        EXXON MOBIL CORP"
      ]
     },
     "execution_count": 6,
     "metadata": {},
     "output_type": "execute_result"
    }
   ],
   "source": [
    "tickers_cik.head()"
   ]
  },
  {
   "cell_type": "code",
   "execution_count": 31,
   "id": "4f16e814",
   "metadata": {},
   "outputs": [
    {
     "data": {
      "text/html": [
       "<div>\n",
       "<style scoped>\n",
       "    .dataframe tbody tr th:only-of-type {\n",
       "        vertical-align: middle;\n",
       "    }\n",
       "\n",
       "    .dataframe tbody tr th {\n",
       "        vertical-align: top;\n",
       "    }\n",
       "\n",
       "    .dataframe thead th {\n",
       "        text-align: right;\n",
       "    }\n",
       "</style>\n",
       "<table border=\"1\" class=\"dataframe\">\n",
       "  <thead>\n",
       "    <tr style=\"text-align: right;\">\n",
       "      <th></th>\n",
       "      <th>cik_str</th>\n",
       "      <th>title</th>\n",
       "    </tr>\n",
       "    <tr>\n",
       "      <th>ticker</th>\n",
       "      <th></th>\n",
       "      <th></th>\n",
       "    </tr>\n",
       "  </thead>\n",
       "  <tbody>\n",
       "    <tr>\n",
       "      <th>AAPL</th>\n",
       "      <td>0000320193</td>\n",
       "      <td>Apple Inc.</td>\n",
       "    </tr>\n",
       "    <tr>\n",
       "      <th>MSFT</th>\n",
       "      <td>0000789019</td>\n",
       "      <td>MICROSOFT CORP</td>\n",
       "    </tr>\n",
       "    <tr>\n",
       "      <th>CSCO</th>\n",
       "      <td>0000858877</td>\n",
       "      <td>CISCO SYSTEMS, INC.</td>\n",
       "    </tr>\n",
       "    <tr>\n",
       "      <th>IBM</th>\n",
       "      <td>0000051143</td>\n",
       "      <td>INTERNATIONAL BUSINESS MACHINES CORP</td>\n",
       "    </tr>\n",
       "  </tbody>\n",
       "</table>\n",
       "</div>"
      ],
      "text/plain": [
       "           cik_str                                 title\n",
       "ticker                                                  \n",
       "AAPL    0000320193                            Apple Inc.\n",
       "MSFT    0000789019                        MICROSOFT CORP\n",
       "CSCO    0000858877                   CISCO SYSTEMS, INC.\n",
       "IBM     0000051143  INTERNATIONAL BUSINESS MACHINES CORP"
      ]
     },
     "execution_count": 31,
     "metadata": {},
     "output_type": "execute_result"
    }
   ],
   "source": [
    "# Get Cisco, Apple, Microsoft, and IBM CIKs\n",
    "\n",
    "#by index name\n",
    "tickers_cik.loc[['AAPL','MSFT','CSCO','IBM']]"
   ]
  },
  {
   "cell_type": "code",
   "execution_count": 32,
   "id": "bb7a6491",
   "metadata": {},
   "outputs": [],
   "source": [
    "# Get total assets of all four\n",
    "response1 = requests.get(\"https://data.sec.gov/api/xbrl/companyconcept/CIK0000858877/us-gaap/Assets.json\", headers=headers)\n",
    "response2 = requests.get(\"https://data.sec.gov/api/xbrl/companyconcept/CIK0000789019/us-gaap/Assets.json\", headers=headers)\n",
    "response3 = requests.get(\"https://data.sec.gov/api/xbrl/companyconcept/CIK0000320193/us-gaap/Assets.json\", headers=headers)\n",
    "response4 = requests.get(\"https://data.sec.gov/api/xbrl/companyconcept/CIK0000051143/us-gaap/Assets.json\", headers=headers)"
   ]
  },
  {
   "cell_type": "code",
   "execution_count": 33,
   "id": "28ebb213",
   "metadata": {},
   "outputs": [
    {
     "data": {
      "text/plain": [
       "{'cik': 858877,\n",
       " 'taxonomy': 'us-gaap',\n",
       " 'tag': 'Assets',\n",
       " 'label': 'Assets',\n",
       " 'description': 'Sum of the carrying amounts as of the balance sheet date of all assets that are recognized. Assets are probable future economic benefits obtained or controlled by an entity as a result of past transactions or events.',\n",
       " 'entityName': 'CISCO SYSTEMS, INC.',\n",
       " 'units': {'USD': [{'end': '2009-07-25',\n",
       "    'val': 68128000000,\n",
       "    'accn': '0001193125-09-237055',\n",
       "    'fy': 2010,\n",
       "    'fp': 'Q1',\n",
       "    'form': '10-Q',\n",
       "    'filed': '2009-11-18'},\n",
       "   {'end': '2009-07-25',\n",
       "    'val': 68128000000,\n",
       "    'accn': '0001193125-10-032740',\n",
       "    'fy': 2010,\n",
       "    'fp': 'Q2',\n",
       "    'form': '10-Q',\n",
       "    'filed': '2010-02-17'},\n",
       "   {'end': '2009-07-25',\n",
       "    'val': 68128000000,\n",
       "    'accn': '0001193125-10-128609',\n",
       "    'fy': 2010,\n",
       "    'fp': 'Q3',\n",
       "    'form': '10-Q',\n",
       "    'filed': '2010-05-26'},\n",
       "   {'end': '2009-07-25',\n",
       "    'val': 68128000000,\n",
       "    'accn': '0001193125-10-213400',\n",
       "    'fy': 2010,\n",
       "    'fp': 'FY',\n",
       "    'form': '10-K',\n",
       "    'filed': '2010-09-21'},\n",
       "   {'end': '2009-07-25',\n",
       "    'val': 68128000000,\n",
       "    'accn': '0001193125-11-060123',\n",
       "    'fy': 2010,\n",
       "    'fp': 'FY',\n",
       "    'form': '8-K',\n",
       "    'filed': '2011-03-09',\n",
       "    'frame': 'CY2009Q2I'},\n",
       "   {'end': '2009-10-24',\n",
       "    'val': 68680000000,\n",
       "    'accn': '0001193125-09-237055',\n",
       "    'fy': 2010,\n",
       "    'fp': 'Q1',\n",
       "    'form': '10-Q',\n",
       "    'filed': '2009-11-18',\n",
       "    'frame': 'CY2009Q3I'},\n",
       "   {'end': '2010-01-23',\n",
       "    'val': 76403000000,\n",
       "    'accn': '0001193125-10-032740',\n",
       "    'fy': 2010,\n",
       "    'fp': 'Q2',\n",
       "    'form': '10-Q',\n",
       "    'filed': '2010-02-17',\n",
       "    'frame': 'CY2009Q4I'},\n",
       "   {'end': '2010-05-01',\n",
       "    'val': 79292000000,\n",
       "    'accn': '0001193125-10-128609',\n",
       "    'fy': 2010,\n",
       "    'fp': 'Q3',\n",
       "    'form': '10-Q',\n",
       "    'filed': '2010-05-26',\n",
       "    'frame': 'CY2010Q1I'},\n",
       "   {'end': '2010-07-31',\n",
       "    'val': 81130000000,\n",
       "    'accn': '0001193125-10-213400',\n",
       "    'fy': 2010,\n",
       "    'fp': 'FY',\n",
       "    'form': '10-K',\n",
       "    'filed': '2010-09-21'},\n",
       "   {'end': '2010-07-31',\n",
       "    'val': 81130000000,\n",
       "    'accn': '0001193125-10-266844',\n",
       "    'fy': 2011,\n",
       "    'fp': 'Q1',\n",
       "    'form': '10-Q',\n",
       "    'filed': '2010-11-23'},\n",
       "   {'end': '2010-07-31',\n",
       "    'val': 81130000000,\n",
       "    'accn': '0001193125-11-042813',\n",
       "    'fy': 2011,\n",
       "    'fp': 'Q2',\n",
       "    'form': '10-Q',\n",
       "    'filed': '2011-02-23'},\n",
       "   {'end': '2010-07-31',\n",
       "    'val': 81130000000,\n",
       "    'accn': '0001193125-11-060123',\n",
       "    'fy': 2010,\n",
       "    'fp': 'FY',\n",
       "    'form': '8-K',\n",
       "    'filed': '2011-03-09'},\n",
       "   {'end': '2010-07-31',\n",
       "    'val': 81130000000,\n",
       "    'accn': '0001193125-11-149590',\n",
       "    'fy': 2011,\n",
       "    'fp': 'Q3',\n",
       "    'form': '10-Q',\n",
       "    'filed': '2011-05-25'},\n",
       "   {'end': '2010-07-31',\n",
       "    'val': 81130000000,\n",
       "    'accn': '0001193125-11-247394',\n",
       "    'fy': 2011,\n",
       "    'fp': 'FY',\n",
       "    'form': '10-K',\n",
       "    'filed': '2011-09-14',\n",
       "    'frame': 'CY2010Q2I'},\n",
       "   {'end': '2010-10-30',\n",
       "    'val': 80015000000,\n",
       "    'accn': '0001193125-10-266844',\n",
       "    'fy': 2011,\n",
       "    'fp': 'Q1',\n",
       "    'form': '10-Q',\n",
       "    'filed': '2010-11-23',\n",
       "    'frame': 'CY2010Q3I'},\n",
       "   {'end': '2011-01-29',\n",
       "    'val': 81981000000,\n",
       "    'accn': '0001193125-11-042813',\n",
       "    'fy': 2011,\n",
       "    'fp': 'Q2',\n",
       "    'form': '10-Q',\n",
       "    'filed': '2011-02-23',\n",
       "    'frame': 'CY2010Q4I'},\n",
       "   {'end': '2011-04-30',\n",
       "    'val': 85350000000,\n",
       "    'accn': '0001193125-11-149590',\n",
       "    'fy': 2011,\n",
       "    'fp': 'Q3',\n",
       "    'form': '10-Q',\n",
       "    'filed': '2011-05-25',\n",
       "    'frame': 'CY2011Q1I'},\n",
       "   {'end': '2011-07-30',\n",
       "    'val': 87095000000,\n",
       "    'accn': '0001193125-11-247394',\n",
       "    'fy': 2011,\n",
       "    'fp': 'FY',\n",
       "    'form': '10-K',\n",
       "    'filed': '2011-09-14'},\n",
       "   {'end': '2011-07-30',\n",
       "    'val': 87095000000,\n",
       "    'accn': '0001193125-11-319161',\n",
       "    'fy': 2012,\n",
       "    'fp': 'Q1',\n",
       "    'form': '10-Q',\n",
       "    'filed': '2011-11-22'},\n",
       "   {'end': '2011-07-30',\n",
       "    'val': 87095000000,\n",
       "    'accn': '0001193125-12-069159',\n",
       "    'fy': 2012,\n",
       "    'fp': 'Q2',\n",
       "    'form': '10-Q',\n",
       "    'filed': '2012-02-21'},\n",
       "   {'end': '2011-07-30',\n",
       "    'val': 87095000000,\n",
       "    'accn': '0001193125-12-244195',\n",
       "    'fy': 2012,\n",
       "    'fp': 'Q3',\n",
       "    'form': '10-Q',\n",
       "    'filed': '2012-05-23'},\n",
       "   {'end': '2011-07-30',\n",
       "    'val': 87095000000,\n",
       "    'accn': '0001193125-12-388590',\n",
       "    'fy': 2012,\n",
       "    'fp': 'FY',\n",
       "    'form': '10-K',\n",
       "    'filed': '2012-09-12',\n",
       "    'frame': 'CY2011Q2I'},\n",
       "   {'end': '2011-10-29',\n",
       "    'val': 86964000000,\n",
       "    'accn': '0001193125-11-319161',\n",
       "    'fy': 2012,\n",
       "    'fp': 'Q1',\n",
       "    'form': '10-Q',\n",
       "    'filed': '2011-11-22',\n",
       "    'frame': 'CY2011Q3I'},\n",
       "   {'end': '2012-01-28',\n",
       "    'val': 89259000000,\n",
       "    'accn': '0001193125-12-069159',\n",
       "    'fy': 2012,\n",
       "    'fp': 'Q2',\n",
       "    'form': '10-Q',\n",
       "    'filed': '2012-02-21',\n",
       "    'frame': 'CY2011Q4I'},\n",
       "   {'end': '2012-04-28',\n",
       "    'val': 91154000000,\n",
       "    'accn': '0001193125-12-244195',\n",
       "    'fy': 2012,\n",
       "    'fp': 'Q3',\n",
       "    'form': '10-Q',\n",
       "    'filed': '2012-05-23',\n",
       "    'frame': 'CY2012Q1I'},\n",
       "   {'end': '2012-07-28',\n",
       "    'val': 91759000000,\n",
       "    'accn': '0001193125-12-388590',\n",
       "    'fy': 2012,\n",
       "    'fp': 'FY',\n",
       "    'form': '10-K',\n",
       "    'filed': '2012-09-12'},\n",
       "   {'end': '2012-07-28',\n",
       "    'val': 91759000000,\n",
       "    'accn': '0001445305-12-003709',\n",
       "    'fy': 2013,\n",
       "    'fp': 'Q1',\n",
       "    'form': '10-Q',\n",
       "    'filed': '2012-11-20'},\n",
       "   {'end': '2012-07-28',\n",
       "    'val': 91759000000,\n",
       "    'accn': '0000858877-13-000013',\n",
       "    'fy': 2013,\n",
       "    'fp': 'Q2',\n",
       "    'form': '10-Q',\n",
       "    'filed': '2013-02-19'},\n",
       "   {'end': '2012-07-28',\n",
       "    'val': 91759000000,\n",
       "    'accn': '0000858877-13-000026',\n",
       "    'fy': 2013,\n",
       "    'fp': 'Q3',\n",
       "    'form': '10-Q',\n",
       "    'filed': '2013-05-21'},\n",
       "   {'end': '2012-07-28',\n",
       "    'val': 91759000000,\n",
       "    'accn': '0000858877-13-000049',\n",
       "    'fy': 2013,\n",
       "    'fp': 'FY',\n",
       "    'form': '10-K',\n",
       "    'filed': '2013-09-10',\n",
       "    'frame': 'CY2012Q2I'},\n",
       "   {'end': '2012-10-27',\n",
       "    'val': 92643000000,\n",
       "    'accn': '0001445305-12-003709',\n",
       "    'fy': 2013,\n",
       "    'fp': 'Q1',\n",
       "    'form': '10-Q',\n",
       "    'filed': '2012-11-20',\n",
       "    'frame': 'CY2012Q3I'},\n",
       "   {'end': '2013-01-26',\n",
       "    'val': 96378000000,\n",
       "    'accn': '0000858877-13-000013',\n",
       "    'fy': 2013,\n",
       "    'fp': 'Q2',\n",
       "    'form': '10-Q',\n",
       "    'filed': '2013-02-19',\n",
       "    'frame': 'CY2012Q4I'},\n",
       "   {'end': '2013-04-27',\n",
       "    'val': 97084000000,\n",
       "    'accn': '0000858877-13-000026',\n",
       "    'fy': 2013,\n",
       "    'fp': 'Q3',\n",
       "    'form': '10-Q',\n",
       "    'filed': '2013-05-21',\n",
       "    'frame': 'CY2013Q1I'},\n",
       "   {'end': '2013-07-27',\n",
       "    'val': 101191000000,\n",
       "    'accn': '0000858877-13-000049',\n",
       "    'fy': 2013,\n",
       "    'fp': 'FY',\n",
       "    'form': '10-K',\n",
       "    'filed': '2013-09-10'},\n",
       "   {'end': '2013-07-27',\n",
       "    'val': 101191000000,\n",
       "    'accn': '0000858877-13-000057',\n",
       "    'fy': 2014,\n",
       "    'fp': 'Q1',\n",
       "    'form': '10-Q',\n",
       "    'filed': '2013-11-22'},\n",
       "   {'end': '2013-07-27',\n",
       "    'val': 101191000000,\n",
       "    'accn': '0000858877-14-000009',\n",
       "    'fy': 2014,\n",
       "    'fp': 'Q2',\n",
       "    'form': '10-Q',\n",
       "    'filed': '2014-02-20'},\n",
       "   {'end': '2013-07-27',\n",
       "    'val': 101191000000,\n",
       "    'accn': '0000858877-14-000014',\n",
       "    'fy': 2014,\n",
       "    'fp': 'Q3',\n",
       "    'form': '10-Q',\n",
       "    'filed': '2014-05-22'},\n",
       "   {'end': '2013-07-27',\n",
       "    'val': 101191000000,\n",
       "    'accn': '0000858877-14-000029',\n",
       "    'fy': 2014,\n",
       "    'fp': 'FY',\n",
       "    'form': '10-K',\n",
       "    'filed': '2014-09-09',\n",
       "    'frame': 'CY2013Q2I'},\n",
       "   {'end': '2013-10-26',\n",
       "    'val': 100741000000,\n",
       "    'accn': '0000858877-13-000057',\n",
       "    'fy': 2014,\n",
       "    'fp': 'Q1',\n",
       "    'form': '10-Q',\n",
       "    'filed': '2013-11-22',\n",
       "    'frame': 'CY2013Q3I'},\n",
       "   {'end': '2014-01-25',\n",
       "    'val': 98427000000,\n",
       "    'accn': '0000858877-14-000009',\n",
       "    'fy': 2014,\n",
       "    'fp': 'Q2',\n",
       "    'form': '10-Q',\n",
       "    'filed': '2014-02-20',\n",
       "    'frame': 'CY2013Q4I'},\n",
       "   {'end': '2014-04-26',\n",
       "    'val': 101856000000,\n",
       "    'accn': '0000858877-14-000014',\n",
       "    'fy': 2014,\n",
       "    'fp': 'Q3',\n",
       "    'form': '10-Q',\n",
       "    'filed': '2014-05-22',\n",
       "    'frame': 'CY2014Q1I'},\n",
       "   {'end': '2014-07-26',\n",
       "    'val': 105134000000,\n",
       "    'accn': '0000858877-14-000029',\n",
       "    'fy': 2014,\n",
       "    'fp': 'FY',\n",
       "    'form': '10-K',\n",
       "    'filed': '2014-09-09'},\n",
       "   {'end': '2014-07-26',\n",
       "    'val': 105134000000,\n",
       "    'accn': '0000858877-14-000043',\n",
       "    'fy': 2015,\n",
       "    'fp': 'Q1',\n",
       "    'form': '10-Q',\n",
       "    'filed': '2014-11-20'},\n",
       "   {'end': '2014-07-26',\n",
       "    'val': 105134000000,\n",
       "    'accn': '0000858877-15-000013',\n",
       "    'fy': 2015,\n",
       "    'fp': 'Q2',\n",
       "    'form': '10-Q',\n",
       "    'filed': '2015-02-18'},\n",
       "   {'end': '2014-07-26',\n",
       "    'val': 105134000000,\n",
       "    'accn': '0000858877-15-000051',\n",
       "    'fy': 2015,\n",
       "    'fp': 'Q3',\n",
       "    'form': '10-Q',\n",
       "    'filed': '2015-05-20'},\n",
       "   {'end': '2014-07-26',\n",
       "    'val': 105070000000,\n",
       "    'accn': '0000858877-15-000070',\n",
       "    'fy': 2015,\n",
       "    'fp': 'FY',\n",
       "    'form': '10-K',\n",
       "    'filed': '2015-09-08',\n",
       "    'frame': 'CY2014Q2I'},\n",
       "   {'end': '2014-10-25',\n",
       "    'val': 103978000000,\n",
       "    'accn': '0000858877-14-000043',\n",
       "    'fy': 2015,\n",
       "    'fp': 'Q1',\n",
       "    'form': '10-Q',\n",
       "    'filed': '2014-11-20',\n",
       "    'frame': 'CY2014Q3I'},\n",
       "   {'end': '2015-01-24',\n",
       "    'val': 104922000000,\n",
       "    'accn': '0000858877-15-000013',\n",
       "    'fy': 2015,\n",
       "    'fp': 'Q2',\n",
       "    'form': '10-Q',\n",
       "    'filed': '2015-02-18',\n",
       "    'frame': 'CY2014Q4I'},\n",
       "   {'end': '2015-04-25',\n",
       "    'val': 106212000000,\n",
       "    'accn': '0000858877-15-000051',\n",
       "    'fy': 2015,\n",
       "    'fp': 'Q3',\n",
       "    'form': '10-Q',\n",
       "    'filed': '2015-05-20',\n",
       "    'frame': 'CY2015Q1I'},\n",
       "   {'end': '2015-07-25',\n",
       "    'val': 113481000000,\n",
       "    'accn': '0000858877-15-000070',\n",
       "    'fy': 2015,\n",
       "    'fp': 'FY',\n",
       "    'form': '10-K',\n",
       "    'filed': '2015-09-08'},\n",
       "   {'end': '2015-07-25',\n",
       "    'val': 113481000000,\n",
       "    'accn': '0000858877-15-000073',\n",
       "    'fy': 2016,\n",
       "    'fp': 'Q1',\n",
       "    'form': '10-Q',\n",
       "    'filed': '2015-11-19'},\n",
       "   {'end': '2015-07-25',\n",
       "    'val': 113481000000,\n",
       "    'accn': '0000858877-16-000090',\n",
       "    'fy': 2016,\n",
       "    'fp': 'Q2',\n",
       "    'form': '10-Q',\n",
       "    'filed': '2016-02-18'},\n",
       "   {'end': '2015-07-25',\n",
       "    'val': 113481000000,\n",
       "    'accn': '0000858877-16-000109',\n",
       "    'fy': 2016,\n",
       "    'fp': 'Q3',\n",
       "    'form': '10-Q',\n",
       "    'filed': '2016-05-24'},\n",
       "   {'end': '2015-07-25',\n",
       "    'val': 113373000000,\n",
       "    'accn': '0000858877-16-000117',\n",
       "    'fy': 2016,\n",
       "    'fp': 'FY',\n",
       "    'form': '10-K',\n",
       "    'filed': '2016-09-08',\n",
       "    'frame': 'CY2015Q2I'},\n",
       "   {'end': '2015-10-24',\n",
       "    'val': 111773000000,\n",
       "    'accn': '0000858877-15-000073',\n",
       "    'fy': 2016,\n",
       "    'fp': 'Q1',\n",
       "    'form': '10-Q',\n",
       "    'filed': '2015-11-19',\n",
       "    'frame': 'CY2015Q3I'},\n",
       "   {'end': '2016-01-23',\n",
       "    'val': 112642000000,\n",
       "    'accn': '0000858877-16-000090',\n",
       "    'fy': 2016,\n",
       "    'fp': 'Q2',\n",
       "    'form': '10-Q',\n",
       "    'filed': '2016-02-18',\n",
       "    'frame': 'CY2015Q4I'},\n",
       "   {'end': '2016-04-30',\n",
       "    'val': 118654000000,\n",
       "    'accn': '0000858877-16-000109',\n",
       "    'fy': 2016,\n",
       "    'fp': 'Q3',\n",
       "    'form': '10-Q',\n",
       "    'filed': '2016-05-24',\n",
       "    'frame': 'CY2016Q1I'},\n",
       "   {'end': '2016-07-30',\n",
       "    'val': 121652000000,\n",
       "    'accn': '0000858877-16-000117',\n",
       "    'fy': 2016,\n",
       "    'fp': 'FY',\n",
       "    'form': '10-K',\n",
       "    'filed': '2016-09-08'},\n",
       "   {'end': '2016-07-30',\n",
       "    'val': 121652000000,\n",
       "    'accn': '0000858877-16-000123',\n",
       "    'fy': 2017,\n",
       "    'fp': 'Q1',\n",
       "    'form': '10-Q',\n",
       "    'filed': '2016-11-22'},\n",
       "   {'end': '2016-07-30',\n",
       "    'val': 121652000000,\n",
       "    'accn': '0000858877-17-000004',\n",
       "    'fy': 2017,\n",
       "    'fp': 'Q2',\n",
       "    'form': '10-Q',\n",
       "    'filed': '2017-02-21'},\n",
       "   {'end': '2016-07-30',\n",
       "    'val': 121652000000,\n",
       "    'accn': '0000858877-17-000010',\n",
       "    'fy': 2017,\n",
       "    'fp': 'Q3',\n",
       "    'form': '10-Q',\n",
       "    'filed': '2017-05-23'},\n",
       "   {'end': '2016-07-30',\n",
       "    'val': 121652000000,\n",
       "    'accn': '0000858877-17-000016',\n",
       "    'fy': 2017,\n",
       "    'fp': 'FY',\n",
       "    'form': '10-K',\n",
       "    'filed': '2017-09-07',\n",
       "    'frame': 'CY2016Q2I'},\n",
       "   {'end': '2016-10-29',\n",
       "    'val': 126287000000,\n",
       "    'accn': '0000858877-16-000123',\n",
       "    'fy': 2017,\n",
       "    'fp': 'Q1',\n",
       "    'form': '10-Q',\n",
       "    'filed': '2016-11-22',\n",
       "    'frame': 'CY2016Q3I'},\n",
       "   {'end': '2017-01-28',\n",
       "    'val': 126248000000,\n",
       "    'accn': '0000858877-17-000004',\n",
       "    'fy': 2017,\n",
       "    'fp': 'Q2',\n",
       "    'form': '10-Q',\n",
       "    'filed': '2017-02-21',\n",
       "    'frame': 'CY2016Q4I'},\n",
       "   {'end': '2017-04-29',\n",
       "    'val': 125950000000,\n",
       "    'accn': '0000858877-17-000010',\n",
       "    'fy': 2017,\n",
       "    'fp': 'Q3',\n",
       "    'form': '10-Q',\n",
       "    'filed': '2017-05-23',\n",
       "    'frame': 'CY2017Q1I'},\n",
       "   {'end': '2017-07-29',\n",
       "    'val': 129818000000,\n",
       "    'accn': '0000858877-17-000016',\n",
       "    'fy': 2017,\n",
       "    'fp': 'FY',\n",
       "    'form': '10-K',\n",
       "    'filed': '2017-09-07'},\n",
       "   {'end': '2017-07-29',\n",
       "    'val': 129818000000,\n",
       "    'accn': '0000858877-17-000019',\n",
       "    'fy': 2018,\n",
       "    'fp': 'Q1',\n",
       "    'form': '10-Q',\n",
       "    'filed': '2017-11-21'},\n",
       "   {'end': '2017-07-29',\n",
       "    'val': 129818000000,\n",
       "    'accn': '0000858877-18-000004',\n",
       "    'fy': 2018,\n",
       "    'fp': 'Q2',\n",
       "    'form': '10-Q',\n",
       "    'filed': '2018-02-20'},\n",
       "   {'end': '2017-07-29',\n",
       "    'val': 129818000000,\n",
       "    'accn': '0000858877-18-000007',\n",
       "    'fy': 2018,\n",
       "    'fp': 'Q3',\n",
       "    'form': '10-Q',\n",
       "    'filed': '2018-05-22'},\n",
       "   {'end': '2017-07-29',\n",
       "    'val': 129818000000,\n",
       "    'accn': '0000858877-18-000011',\n",
       "    'fy': 2018,\n",
       "    'fp': 'FY',\n",
       "    'form': '10-K',\n",
       "    'filed': '2018-09-06',\n",
       "    'frame': 'CY2017Q2I'},\n",
       "   {'end': '2017-10-28',\n",
       "    'val': 130522000000,\n",
       "    'accn': '0000858877-17-000019',\n",
       "    'fy': 2018,\n",
       "    'fp': 'Q1',\n",
       "    'form': '10-Q',\n",
       "    'filed': '2017-11-21',\n",
       "    'frame': 'CY2017Q3I'},\n",
       "   {'end': '2018-01-27',\n",
       "    'val': 131510000000,\n",
       "    'accn': '0000858877-18-000004',\n",
       "    'fy': 2018,\n",
       "    'fp': 'Q2',\n",
       "    'form': '10-Q',\n",
       "    'filed': '2018-02-20',\n",
       "    'frame': 'CY2017Q4I'},\n",
       "   {'end': '2018-04-28',\n",
       "    'val': 114008000000,\n",
       "    'accn': '0000858877-18-000007',\n",
       "    'fy': 2018,\n",
       "    'fp': 'Q3',\n",
       "    'form': '10-Q',\n",
       "    'filed': '2018-05-22',\n",
       "    'frame': 'CY2018Q1I'},\n",
       "   {'end': '2018-07-28',\n",
       "    'val': 108784000000,\n",
       "    'accn': '0000858877-18-000011',\n",
       "    'fy': 2018,\n",
       "    'fp': 'FY',\n",
       "    'form': '10-K',\n",
       "    'filed': '2018-09-06'},\n",
       "   {'end': '2018-07-28',\n",
       "    'val': 108784000000,\n",
       "    'accn': '0000858877-18-000015',\n",
       "    'fy': 2019,\n",
       "    'fp': 'Q1',\n",
       "    'form': '10-Q',\n",
       "    'filed': '2018-11-20'},\n",
       "   {'end': '2018-07-28',\n",
       "    'val': 108784000000,\n",
       "    'accn': '0000858877-19-000003',\n",
       "    'fy': 2019,\n",
       "    'fp': 'Q2',\n",
       "    'form': '10-Q',\n",
       "    'filed': '2019-02-19'},\n",
       "   {'end': '2018-07-28',\n",
       "    'val': 108784000000,\n",
       "    'accn': '0000858877-19-000007',\n",
       "    'fy': 2019,\n",
       "    'fp': 'Q3',\n",
       "    'form': '10-Q',\n",
       "    'filed': '2019-05-21'},\n",
       "   {'end': '2018-07-28',\n",
       "    'val': 108784000000,\n",
       "    'accn': '0000858877-19-000012',\n",
       "    'fy': 2019,\n",
       "    'fp': 'FY',\n",
       "    'form': '10-K',\n",
       "    'filed': '2019-09-05',\n",
       "    'frame': 'CY2018Q2I'},\n",
       "   {'end': '2018-07-29',\n",
       "    'val': 109872000000,\n",
       "    'accn': '0000858877-18-000015',\n",
       "    'fy': 2019,\n",
       "    'fp': 'Q1',\n",
       "    'form': '10-Q',\n",
       "    'filed': '2018-11-20'},\n",
       "   {'end': '2018-07-29',\n",
       "    'val': 109872000000,\n",
       "    'accn': '0000858877-19-000003',\n",
       "    'fy': 2019,\n",
       "    'fp': 'Q2',\n",
       "    'form': '10-Q',\n",
       "    'filed': '2019-02-19'},\n",
       "   {'end': '2018-07-29',\n",
       "    'val': 109872000000,\n",
       "    'accn': '0000858877-19-000007',\n",
       "    'fy': 2019,\n",
       "    'fp': 'Q3',\n",
       "    'form': '10-Q',\n",
       "    'filed': '2019-05-21'},\n",
       "   {'end': '2018-07-29',\n",
       "    'val': 109872000000,\n",
       "    'accn': '0000858877-19-000012',\n",
       "    'fy': 2019,\n",
       "    'fp': 'FY',\n",
       "    'form': '10-K',\n",
       "    'filed': '2019-09-05'},\n",
       "   {'end': '2018-10-27',\n",
       "    'val': 105429000000,\n",
       "    'accn': '0000858877-18-000015',\n",
       "    'fy': 2019,\n",
       "    'fp': 'Q1',\n",
       "    'form': '10-Q',\n",
       "    'filed': '2018-11-20',\n",
       "    'frame': 'CY2018Q3I'},\n",
       "   {'end': '2019-01-26',\n",
       "    'val': 102462000000,\n",
       "    'accn': '0000858877-19-000003',\n",
       "    'fy': 2019,\n",
       "    'fp': 'Q2',\n",
       "    'form': '10-Q',\n",
       "    'filed': '2019-02-19',\n",
       "    'frame': 'CY2018Q4I'},\n",
       "   {'end': '2019-04-27',\n",
       "    'val': 97287000000,\n",
       "    'accn': '0000858877-19-000007',\n",
       "    'fy': 2019,\n",
       "    'fp': 'Q3',\n",
       "    'form': '10-Q',\n",
       "    'filed': '2019-05-21',\n",
       "    'frame': 'CY2019Q1I'},\n",
       "   {'end': '2019-07-27',\n",
       "    'val': 97793000000,\n",
       "    'accn': '0000858877-19-000012',\n",
       "    'fy': 2019,\n",
       "    'fp': 'FY',\n",
       "    'form': '10-K',\n",
       "    'filed': '2019-09-05'},\n",
       "   {'end': '2019-07-27',\n",
       "    'val': 97793000000,\n",
       "    'accn': '0000858877-19-000018',\n",
       "    'fy': 2020,\n",
       "    'fp': 'Q1',\n",
       "    'form': '10-Q',\n",
       "    'filed': '2019-11-19'},\n",
       "   {'end': '2019-07-27',\n",
       "    'val': 97793000000,\n",
       "    'accn': '0000858877-20-000004',\n",
       "    'fy': 2020,\n",
       "    'fp': 'Q2',\n",
       "    'form': '10-Q',\n",
       "    'filed': '2020-02-18'},\n",
       "   {'end': '2019-07-27',\n",
       "    'val': 97793000000,\n",
       "    'accn': '0000858877-20-000006',\n",
       "    'fy': 2020,\n",
       "    'fp': 'Q3',\n",
       "    'form': '10-Q',\n",
       "    'filed': '2020-05-18'},\n",
       "   {'end': '2019-07-27',\n",
       "    'val': 97793000000,\n",
       "    'accn': '0000858877-20-000010',\n",
       "    'fy': 2020,\n",
       "    'fp': 'FY',\n",
       "    'form': '10-K',\n",
       "    'filed': '2020-09-03',\n",
       "    'frame': 'CY2019Q2I'},\n",
       "   {'end': '2019-10-26',\n",
       "    'val': 92492000000,\n",
       "    'accn': '0000858877-19-000018',\n",
       "    'fy': 2020,\n",
       "    'fp': 'Q1',\n",
       "    'form': '10-Q',\n",
       "    'filed': '2019-11-19',\n",
       "    'frame': 'CY2019Q3I'},\n",
       "   {'end': '2020-01-25',\n",
       "    'val': 90426000000,\n",
       "    'accn': '0000858877-20-000004',\n",
       "    'fy': 2020,\n",
       "    'fp': 'Q2',\n",
       "    'form': '10-Q',\n",
       "    'filed': '2020-02-18',\n",
       "    'frame': 'CY2019Q4I'},\n",
       "   {'end': '2020-04-25',\n",
       "    'val': 91394000000,\n",
       "    'accn': '0000858877-20-000006',\n",
       "    'fy': 2020,\n",
       "    'fp': 'Q3',\n",
       "    'form': '10-Q',\n",
       "    'filed': '2020-05-18',\n",
       "    'frame': 'CY2020Q1I'},\n",
       "   {'end': '2020-07-25',\n",
       "    'val': 94853000000,\n",
       "    'accn': '0000858877-20-000010',\n",
       "    'fy': 2020,\n",
       "    'fp': 'FY',\n",
       "    'form': '10-K',\n",
       "    'filed': '2020-09-03'},\n",
       "   {'end': '2020-07-25',\n",
       "    'val': 94853000000,\n",
       "    'accn': '0000858877-20-000015',\n",
       "    'fy': 2021,\n",
       "    'fp': 'Q1',\n",
       "    'form': '10-Q',\n",
       "    'filed': '2020-11-17'},\n",
       "   {'end': '2020-07-25',\n",
       "    'val': 94853000000,\n",
       "    'accn': '0000858877-21-000004',\n",
       "    'fy': 2021,\n",
       "    'fp': 'Q2',\n",
       "    'form': '10-Q',\n",
       "    'filed': '2021-02-16'},\n",
       "   {'end': '2020-07-25',\n",
       "    'val': 94853000000,\n",
       "    'accn': '0000858877-21-000008',\n",
       "    'fy': 2021,\n",
       "    'fp': 'Q3',\n",
       "    'form': '10-Q',\n",
       "    'filed': '2021-05-25'},\n",
       "   {'end': '2020-07-25',\n",
       "    'val': 94853000000,\n",
       "    'accn': '0000858877-21-000013',\n",
       "    'fy': 2021,\n",
       "    'fp': 'FY',\n",
       "    'form': '10-K',\n",
       "    'filed': '2021-09-09',\n",
       "    'frame': 'CY2020Q2I'},\n",
       "   {'end': '2020-10-24',\n",
       "    'val': 95003000000,\n",
       "    'accn': '0000858877-20-000015',\n",
       "    'fy': 2021,\n",
       "    'fp': 'Q1',\n",
       "    'form': '10-Q',\n",
       "    'filed': '2020-11-17',\n",
       "    'frame': 'CY2020Q3I'},\n",
       "   {'end': '2021-01-23',\n",
       "    'val': 95601000000,\n",
       "    'accn': '0000858877-21-000004',\n",
       "    'fy': 2021,\n",
       "    'fp': 'Q2',\n",
       "    'form': '10-Q',\n",
       "    'filed': '2021-02-16',\n",
       "    'frame': 'CY2020Q4I'},\n",
       "   {'end': '2021-05-01',\n",
       "    'val': 93896000000,\n",
       "    'accn': '0000858877-21-000008',\n",
       "    'fy': 2021,\n",
       "    'fp': 'Q3',\n",
       "    'form': '10-Q',\n",
       "    'filed': '2021-05-25',\n",
       "    'frame': 'CY2021Q1I'},\n",
       "   {'end': '2021-07-31',\n",
       "    'val': 97497000000,\n",
       "    'accn': '0000858877-21-000013',\n",
       "    'fy': 2021,\n",
       "    'fp': 'FY',\n",
       "    'form': '10-K',\n",
       "    'filed': '2021-09-09'},\n",
       "   {'end': '2021-07-31',\n",
       "    'val': 97497000000,\n",
       "    'accn': '0000858877-21-000018',\n",
       "    'fy': 2022,\n",
       "    'fp': 'Q1',\n",
       "    'form': '10-Q',\n",
       "    'filed': '2021-11-23'},\n",
       "   {'end': '2021-07-31',\n",
       "    'val': 97497000000,\n",
       "    'accn': '0000858877-22-000004',\n",
       "    'fy': 2022,\n",
       "    'fp': 'Q2',\n",
       "    'form': '10-Q',\n",
       "    'filed': '2022-02-22'},\n",
       "   {'end': '2021-07-31',\n",
       "    'val': 97497000000,\n",
       "    'accn': '0000858877-22-000009',\n",
       "    'fy': 2022,\n",
       "    'fp': 'Q3',\n",
       "    'form': '10-Q',\n",
       "    'filed': '2022-05-25'},\n",
       "   {'end': '2021-07-31',\n",
       "    'val': 97497000000,\n",
       "    'accn': '0000858877-22-000013',\n",
       "    'fy': 2022,\n",
       "    'fp': 'FY',\n",
       "    'form': '10-K',\n",
       "    'filed': '2022-09-08',\n",
       "    'frame': 'CY2021Q2I'},\n",
       "   {'end': '2021-10-30',\n",
       "    'val': 95981000000,\n",
       "    'accn': '0000858877-21-000018',\n",
       "    'fy': 2022,\n",
       "    'fp': 'Q1',\n",
       "    'form': '10-Q',\n",
       "    'filed': '2021-11-23',\n",
       "    'frame': 'CY2021Q3I'},\n",
       "   {'end': '2022-01-29',\n",
       "    'val': 94262000000,\n",
       "    'accn': '0000858877-22-000004',\n",
       "    'fy': 2022,\n",
       "    'fp': 'Q2',\n",
       "    'form': '10-Q',\n",
       "    'filed': '2022-02-22',\n",
       "    'frame': 'CY2021Q4I'},\n",
       "   {'end': '2022-04-30',\n",
       "    'val': 92797000000,\n",
       "    'accn': '0000858877-22-000009',\n",
       "    'fy': 2022,\n",
       "    'fp': 'Q3',\n",
       "    'form': '10-Q',\n",
       "    'filed': '2022-05-25',\n",
       "    'frame': 'CY2022Q1I'},\n",
       "   {'end': '2022-07-30',\n",
       "    'val': 94002000000,\n",
       "    'accn': '0000858877-22-000013',\n",
       "    'fy': 2022,\n",
       "    'fp': 'FY',\n",
       "    'form': '10-K',\n",
       "    'filed': '2022-09-08',\n",
       "    'frame': 'CY2022Q2I'}]}}"
      ]
     },
     "execution_count": 33,
     "metadata": {},
     "output_type": "execute_result"
    }
   ],
   "source": [
    "# View one of the objects\n",
    "response1.json()"
   ]
  },
  {
   "cell_type": "code",
   "execution_count": 34,
   "id": "949f8e36",
   "metadata": {},
   "outputs": [],
   "source": [
    "# Convert to Pandas DFs\n",
    "\n",
    "assets_timeseries1 = pd.json_normalize(response1.json()[\"units\"][\"USD\"])\n",
    "assets_timeseries1[\"filed\"] = pd.to_datetime(assets_timeseries1[\"filed\"])\n",
    "assets_timeseries1 = assets_timeseries1.sort_values(\"end\")\n",
    "\n",
    "assets_timeseries2 = pd.json_normalize(response2.json()[\"units\"][\"USD\"])\n",
    "assets_timeseries2[\"filed\"] = pd.to_datetime(assets_timeseries2[\"filed\"])\n",
    "assets_timeseries2 = assets_timeseries2.sort_values(\"end\")\n",
    "\n",
    "assets_timeseries3 = pd.json_normalize(response3.json()[\"units\"][\"USD\"])\n",
    "assets_timeseries3[\"filed\"] = pd.to_datetime(assets_timeseries3[\"filed\"])\n",
    "assets_timeseries3 = assets_timeseries3.sort_values(\"end\")\n",
    "\n",
    "assets_timeseries4 = pd.json_normalize(response4.json()[\"units\"][\"USD\"])\n",
    "assets_timeseries4[\"filed\"] = pd.to_datetime(assets_timeseries4[\"filed\"])\n",
    "assets_timeseries4 = assets_timeseries4.sort_values(\"end\")"
   ]
  },
  {
   "cell_type": "code",
   "execution_count": 35,
   "id": "1d564f4a",
   "metadata": {},
   "outputs": [
    {
     "data": {
      "text/html": [
       "<div>\n",
       "<style scoped>\n",
       "    .dataframe tbody tr th:only-of-type {\n",
       "        vertical-align: middle;\n",
       "    }\n",
       "\n",
       "    .dataframe tbody tr th {\n",
       "        vertical-align: top;\n",
       "    }\n",
       "\n",
       "    .dataframe thead th {\n",
       "        text-align: right;\n",
       "    }\n",
       "</style>\n",
       "<table border=\"1\" class=\"dataframe\">\n",
       "  <thead>\n",
       "    <tr style=\"text-align: right;\">\n",
       "      <th></th>\n",
       "      <th>end</th>\n",
       "      <th>val</th>\n",
       "      <th>accn</th>\n",
       "      <th>fy</th>\n",
       "      <th>fp</th>\n",
       "      <th>form</th>\n",
       "      <th>filed</th>\n",
       "      <th>frame</th>\n",
       "    </tr>\n",
       "  </thead>\n",
       "  <tbody>\n",
       "    <tr>\n",
       "      <th>100</th>\n",
       "      <td>2021-05-01</td>\n",
       "      <td>93896000000</td>\n",
       "      <td>0000858877-21-000008</td>\n",
       "      <td>2021</td>\n",
       "      <td>Q3</td>\n",
       "      <td>10-Q</td>\n",
       "      <td>2021-05-25</td>\n",
       "      <td>CY2021Q1I</td>\n",
       "    </tr>\n",
       "    <tr>\n",
       "      <th>101</th>\n",
       "      <td>2021-07-31</td>\n",
       "      <td>97497000000</td>\n",
       "      <td>0000858877-21-000013</td>\n",
       "      <td>2021</td>\n",
       "      <td>FY</td>\n",
       "      <td>10-K</td>\n",
       "      <td>2021-09-09</td>\n",
       "      <td>NaN</td>\n",
       "    </tr>\n",
       "    <tr>\n",
       "      <th>102</th>\n",
       "      <td>2021-07-31</td>\n",
       "      <td>97497000000</td>\n",
       "      <td>0000858877-21-000018</td>\n",
       "      <td>2022</td>\n",
       "      <td>Q1</td>\n",
       "      <td>10-Q</td>\n",
       "      <td>2021-11-23</td>\n",
       "      <td>NaN</td>\n",
       "    </tr>\n",
       "    <tr>\n",
       "      <th>103</th>\n",
       "      <td>2021-07-31</td>\n",
       "      <td>97497000000</td>\n",
       "      <td>0000858877-22-000004</td>\n",
       "      <td>2022</td>\n",
       "      <td>Q2</td>\n",
       "      <td>10-Q</td>\n",
       "      <td>2022-02-22</td>\n",
       "      <td>NaN</td>\n",
       "    </tr>\n",
       "    <tr>\n",
       "      <th>104</th>\n",
       "      <td>2021-07-31</td>\n",
       "      <td>97497000000</td>\n",
       "      <td>0000858877-22-000009</td>\n",
       "      <td>2022</td>\n",
       "      <td>Q3</td>\n",
       "      <td>10-Q</td>\n",
       "      <td>2022-05-25</td>\n",
       "      <td>NaN</td>\n",
       "    </tr>\n",
       "    <tr>\n",
       "      <th>105</th>\n",
       "      <td>2021-07-31</td>\n",
       "      <td>97497000000</td>\n",
       "      <td>0000858877-22-000013</td>\n",
       "      <td>2022</td>\n",
       "      <td>FY</td>\n",
       "      <td>10-K</td>\n",
       "      <td>2022-09-08</td>\n",
       "      <td>CY2021Q2I</td>\n",
       "    </tr>\n",
       "    <tr>\n",
       "      <th>106</th>\n",
       "      <td>2021-10-30</td>\n",
       "      <td>95981000000</td>\n",
       "      <td>0000858877-21-000018</td>\n",
       "      <td>2022</td>\n",
       "      <td>Q1</td>\n",
       "      <td>10-Q</td>\n",
       "      <td>2021-11-23</td>\n",
       "      <td>CY2021Q3I</td>\n",
       "    </tr>\n",
       "    <tr>\n",
       "      <th>107</th>\n",
       "      <td>2022-01-29</td>\n",
       "      <td>94262000000</td>\n",
       "      <td>0000858877-22-000004</td>\n",
       "      <td>2022</td>\n",
       "      <td>Q2</td>\n",
       "      <td>10-Q</td>\n",
       "      <td>2022-02-22</td>\n",
       "      <td>CY2021Q4I</td>\n",
       "    </tr>\n",
       "    <tr>\n",
       "      <th>108</th>\n",
       "      <td>2022-04-30</td>\n",
       "      <td>92797000000</td>\n",
       "      <td>0000858877-22-000009</td>\n",
       "      <td>2022</td>\n",
       "      <td>Q3</td>\n",
       "      <td>10-Q</td>\n",
       "      <td>2022-05-25</td>\n",
       "      <td>CY2022Q1I</td>\n",
       "    </tr>\n",
       "    <tr>\n",
       "      <th>109</th>\n",
       "      <td>2022-07-30</td>\n",
       "      <td>94002000000</td>\n",
       "      <td>0000858877-22-000013</td>\n",
       "      <td>2022</td>\n",
       "      <td>FY</td>\n",
       "      <td>10-K</td>\n",
       "      <td>2022-09-08</td>\n",
       "      <td>CY2022Q2I</td>\n",
       "    </tr>\n",
       "  </tbody>\n",
       "</table>\n",
       "</div>"
      ],
      "text/plain": [
       "            end          val                  accn    fy  fp  form      filed  \\\n",
       "100  2021-05-01  93896000000  0000858877-21-000008  2021  Q3  10-Q 2021-05-25   \n",
       "101  2021-07-31  97497000000  0000858877-21-000013  2021  FY  10-K 2021-09-09   \n",
       "102  2021-07-31  97497000000  0000858877-21-000018  2022  Q1  10-Q 2021-11-23   \n",
       "103  2021-07-31  97497000000  0000858877-22-000004  2022  Q2  10-Q 2022-02-22   \n",
       "104  2021-07-31  97497000000  0000858877-22-000009  2022  Q3  10-Q 2022-05-25   \n",
       "105  2021-07-31  97497000000  0000858877-22-000013  2022  FY  10-K 2022-09-08   \n",
       "106  2021-10-30  95981000000  0000858877-21-000018  2022  Q1  10-Q 2021-11-23   \n",
       "107  2022-01-29  94262000000  0000858877-22-000004  2022  Q2  10-Q 2022-02-22   \n",
       "108  2022-04-30  92797000000  0000858877-22-000009  2022  Q3  10-Q 2022-05-25   \n",
       "109  2022-07-30  94002000000  0000858877-22-000013  2022  FY  10-K 2022-09-08   \n",
       "\n",
       "         frame  \n",
       "100  CY2021Q1I  \n",
       "101        NaN  \n",
       "102        NaN  \n",
       "103        NaN  \n",
       "104        NaN  \n",
       "105  CY2021Q2I  \n",
       "106  CY2021Q3I  \n",
       "107  CY2021Q4I  \n",
       "108  CY2022Q1I  \n",
       "109  CY2022Q2I  "
      ]
     },
     "execution_count": 35,
     "metadata": {},
     "output_type": "execute_result"
    }
   ],
   "source": [
    "# View one of the DFs\n",
    "assets_timeseries1.tail(10)"
   ]
  },
  {
   "cell_type": "code",
   "execution_count": 38,
   "id": "c90010b3",
   "metadata": {},
   "outputs": [
    {
     "data": {
      "application/vnd.plotly.v1+json": {
       "config": {
        "plotlyServerURL": "https://plot.ly"
       },
       "data": [
        {
         "mode": "lines+markers",
         "name": "Cisco",
         "type": "scatter",
         "x": [
          "2009-07-25",
          "2009-07-25",
          "2009-07-25",
          "2009-07-25",
          "2009-07-25",
          "2009-10-24",
          "2010-01-23",
          "2010-05-01",
          "2010-07-31",
          "2010-07-31",
          "2010-07-31",
          "2010-07-31",
          "2010-07-31",
          "2010-07-31",
          "2010-10-30",
          "2011-01-29",
          "2011-04-30",
          "2011-07-30",
          "2011-07-30",
          "2011-07-30",
          "2011-07-30",
          "2011-07-30",
          "2011-10-29",
          "2012-01-28",
          "2012-04-28",
          "2012-07-28",
          "2012-07-28",
          "2012-07-28",
          "2012-07-28",
          "2012-07-28",
          "2012-10-27",
          "2013-01-26",
          "2013-04-27",
          "2013-07-27",
          "2013-07-27",
          "2013-07-27",
          "2013-07-27",
          "2013-07-27",
          "2013-10-26",
          "2014-01-25",
          "2014-04-26",
          "2014-07-26",
          "2014-07-26",
          "2014-07-26",
          "2014-07-26",
          "2014-07-26",
          "2014-10-25",
          "2015-01-24",
          "2015-04-25",
          "2015-07-25",
          "2015-07-25",
          "2015-07-25",
          "2015-07-25",
          "2015-07-25",
          "2015-10-24",
          "2016-01-23",
          "2016-04-30",
          "2016-07-30",
          "2016-07-30",
          "2016-07-30",
          "2016-07-30",
          "2016-07-30",
          "2016-10-29",
          "2017-01-28",
          "2017-04-29",
          "2017-07-29",
          "2017-07-29",
          "2017-07-29",
          "2017-07-29",
          "2017-07-29",
          "2017-10-28",
          "2018-01-27",
          "2018-04-28",
          "2018-07-28",
          "2018-07-28",
          "2018-07-28",
          "2018-07-28",
          "2018-07-28",
          "2018-07-29",
          "2018-07-29",
          "2018-07-29",
          "2018-07-29",
          "2018-10-27",
          "2019-01-26",
          "2019-04-27",
          "2019-07-27",
          "2019-07-27",
          "2019-07-27",
          "2019-07-27",
          "2019-07-27",
          "2019-10-26",
          "2020-01-25",
          "2020-04-25",
          "2020-07-25",
          "2020-07-25",
          "2020-07-25",
          "2020-07-25",
          "2020-07-25",
          "2020-10-24",
          "2021-01-23",
          "2021-05-01",
          "2021-07-31",
          "2021-07-31",
          "2021-07-31",
          "2021-07-31",
          "2021-07-31",
          "2021-10-30",
          "2022-01-29",
          "2022-04-30",
          "2022-07-30"
         ],
         "y": [
          68128000000,
          68128000000,
          68128000000,
          68128000000,
          68128000000,
          68680000000,
          76403000000,
          79292000000,
          81130000000,
          81130000000,
          81130000000,
          81130000000,
          81130000000,
          81130000000,
          80015000000,
          81981000000,
          85350000000,
          87095000000,
          87095000000,
          87095000000,
          87095000000,
          87095000000,
          86964000000,
          89259000000,
          91154000000,
          91759000000,
          91759000000,
          91759000000,
          91759000000,
          91759000000,
          92643000000,
          96378000000,
          97084000000,
          101191000000,
          101191000000,
          101191000000,
          101191000000,
          101191000000,
          100741000000,
          98427000000,
          101856000000,
          105134000000,
          105134000000,
          105134000000,
          105134000000,
          105070000000,
          103978000000,
          104922000000,
          106212000000,
          113481000000,
          113481000000,
          113481000000,
          113481000000,
          113373000000,
          111773000000,
          112642000000,
          118654000000,
          121652000000,
          121652000000,
          121652000000,
          121652000000,
          121652000000,
          126287000000,
          126248000000,
          125950000000,
          129818000000,
          129818000000,
          129818000000,
          129818000000,
          129818000000,
          130522000000,
          131510000000,
          114008000000,
          108784000000,
          108784000000,
          108784000000,
          108784000000,
          108784000000,
          109872000000,
          109872000000,
          109872000000,
          109872000000,
          105429000000,
          102462000000,
          97287000000,
          97793000000,
          97793000000,
          97793000000,
          97793000000,
          97793000000,
          92492000000,
          90426000000,
          91394000000,
          94853000000,
          94853000000,
          94853000000,
          94853000000,
          94853000000,
          95003000000,
          95601000000,
          93896000000,
          97497000000,
          97497000000,
          97497000000,
          97497000000,
          97497000000,
          95981000000,
          94262000000,
          92797000000,
          94002000000
         ]
        },
        {
         "mode": "lines+markers",
         "name": "Microsoft",
         "type": "scatter",
         "x": [
          "2009-06-30",
          "2009-06-30",
          "2009-06-30",
          "2009-06-30",
          "2009-09-30",
          "2009-12-31",
          "2010-03-31",
          "2010-06-30",
          "2010-06-30",
          "2010-06-30",
          "2010-06-30",
          "2010-06-30",
          "2010-09-30",
          "2010-12-31",
          "2011-03-31",
          "2011-06-30",
          "2011-06-30",
          "2011-06-30",
          "2011-06-30",
          "2011-06-30",
          "2011-09-30",
          "2011-12-31",
          "2012-03-31",
          "2012-06-30",
          "2012-06-30",
          "2012-06-30",
          "2012-06-30",
          "2012-06-30",
          "2012-06-30",
          "2012-09-30",
          "2012-12-31",
          "2013-03-31",
          "2013-06-30",
          "2013-06-30",
          "2013-06-30",
          "2013-06-30",
          "2013-06-30",
          "2013-06-30",
          "2013-09-30",
          "2013-12-31",
          "2014-03-31",
          "2014-06-30",
          "2014-06-30",
          "2014-06-30",
          "2014-06-30",
          "2014-06-30",
          "2014-06-30",
          "2014-09-30",
          "2014-12-31",
          "2015-03-31",
          "2015-06-30",
          "2015-06-30",
          "2015-06-30",
          "2015-06-30",
          "2015-06-30",
          "2015-06-30",
          "2015-09-30",
          "2015-12-31",
          "2016-03-31",
          "2016-06-30",
          "2016-06-30",
          "2016-06-30",
          "2016-06-30",
          "2016-06-30",
          "2016-09-30",
          "2016-12-31",
          "2017-03-31",
          "2017-06-30",
          "2017-06-30",
          "2017-06-30",
          "2017-06-30",
          "2017-06-30",
          "2017-09-30",
          "2017-12-31",
          "2018-03-31",
          "2018-06-30",
          "2018-06-30",
          "2018-06-30",
          "2018-06-30",
          "2018-06-30",
          "2018-09-30",
          "2018-12-31",
          "2019-03-31",
          "2019-06-30",
          "2019-06-30",
          "2019-06-30",
          "2019-06-30",
          "2019-06-30",
          "2019-09-30",
          "2019-12-31",
          "2020-03-31",
          "2020-06-30",
          "2020-06-30",
          "2020-06-30",
          "2020-06-30",
          "2020-06-30",
          "2020-09-30",
          "2020-12-31",
          "2021-03-31",
          "2021-06-30",
          "2021-06-30",
          "2021-06-30",
          "2021-06-30",
          "2021-06-30",
          "2021-09-30",
          "2021-12-31",
          "2022-03-31",
          "2022-06-30",
          "2022-06-30",
          "2022-09-30"
         ],
         "y": [
          77888000000,
          77888000000,
          77888000000,
          77888000000,
          81612000000,
          82096000000,
          84910000000,
          86113000000,
          86113000000,
          86113000000,
          86113000000,
          86113000000,
          91540000000,
          92306000000,
          99727000000,
          108704000000,
          108704000000,
          108704000000,
          108704000000,
          108704000000,
          107415000000,
          112243000000,
          118010000000,
          121271000000,
          121271000000,
          121271000000,
          121271000000,
          121271000000,
          121271000000,
          121876000000,
          128683000000,
          134105000000,
          142431000000,
          142431000000,
          142431000000,
          142431000000,
          142431000000,
          142431000000,
          142348000000,
          153543000000,
          156119000000,
          172384000000,
          172384000000,
          172384000000,
          172384000000,
          172384000000,
          172384000000,
          169656000000,
          174848000000,
          176683000000,
          174472000000,
          176223000000,
          176223000000,
          176223000000,
          176223000000,
          176223000000,
          172896000000,
          180098000000,
          181869000000,
          193694000000,
          193468000000,
          193468000000,
          193468000000,
          193468000000,
          212524000000,
          224610000000,
          225017000000,
          241086000000,
          250312000000,
          250312000000,
          250312000000,
          250312000000,
          249097000000,
          256003000000,
          245497000000,
          258848000000,
          258848000000,
          258848000000,
          258848000000,
          258848000000,
          257619000000,
          258859000000,
          263281000000,
          286556000000,
          286556000000,
          286556000000,
          286556000000,
          286556000000,
          278955000000,
          282794000000,
          285449000000,
          301311000000,
          301311000000,
          301311000000,
          301311000000,
          301311000000,
          301001000000,
          304137000000,
          308879000000,
          333779000000,
          333779000000,
          333779000000,
          333779000000,
          333779000000,
          335418000000,
          340389000000,
          344607000000,
          364840000000,
          364840000000,
          359784000000
         ]
        },
        {
         "mode": "lines+markers",
         "name": "Apple",
         "type": "scatter",
         "x": [
          "2008-09-27",
          "2008-09-27",
          "2008-09-27",
          "2008-09-27",
          "2009-06-27",
          "2009-09-26",
          "2009-09-26",
          "2009-09-26",
          "2009-09-26",
          "2009-09-26",
          "2009-09-26",
          "2009-09-26",
          "2009-12-26",
          "2010-03-27",
          "2010-06-26",
          "2010-09-25",
          "2010-09-25",
          "2010-09-25",
          "2010-09-25",
          "2010-09-25",
          "2010-12-25",
          "2011-03-26",
          "2011-06-25",
          "2011-09-24",
          "2011-09-24",
          "2011-09-24",
          "2011-09-24",
          "2011-09-24",
          "2011-09-24",
          "2011-12-31",
          "2012-03-31",
          "2012-06-30",
          "2012-09-29",
          "2012-09-29",
          "2012-09-29",
          "2012-09-29",
          "2012-09-29",
          "2012-09-29",
          "2012-12-29",
          "2013-03-30",
          "2013-06-29",
          "2013-09-28",
          "2013-09-28",
          "2013-09-28",
          "2013-09-28",
          "2013-09-28",
          "2013-09-28",
          "2013-12-28",
          "2014-03-29",
          "2014-06-28",
          "2014-09-27",
          "2014-09-27",
          "2014-09-27",
          "2014-09-27",
          "2014-09-27",
          "2014-09-27",
          "2014-12-27",
          "2015-03-28",
          "2015-06-27",
          "2015-09-26",
          "2015-09-26",
          "2015-09-26",
          "2015-09-26",
          "2015-09-26",
          "2015-12-26",
          "2016-03-26",
          "2016-06-25",
          "2016-09-24",
          "2016-09-24",
          "2016-09-24",
          "2016-09-24",
          "2016-09-24",
          "2016-12-31",
          "2017-04-01",
          "2017-07-01",
          "2017-09-30",
          "2017-09-30",
          "2017-09-30",
          "2017-09-30",
          "2017-09-30",
          "2017-12-30",
          "2018-03-31",
          "2018-06-30",
          "2018-09-29",
          "2018-09-29",
          "2018-09-29",
          "2018-09-29",
          "2018-09-29",
          "2018-12-29",
          "2019-03-30",
          "2019-06-29",
          "2019-09-28",
          "2019-09-28",
          "2019-09-28",
          "2019-09-28",
          "2019-09-28",
          "2019-12-28",
          "2020-03-28",
          "2020-06-27",
          "2020-09-26",
          "2020-09-26",
          "2020-09-26",
          "2020-09-26",
          "2020-09-26",
          "2020-12-26",
          "2021-03-27",
          "2021-06-26",
          "2021-09-25",
          "2021-09-25",
          "2021-09-25",
          "2021-09-25",
          "2021-09-25",
          "2021-12-25",
          "2022-03-26",
          "2022-06-25",
          "2022-09-24"
         ],
         "y": [
          39572000000,
          39572000000,
          36171000000,
          36171000000,
          48140000000,
          53851000000,
          47501000000,
          47501000000,
          47501000000,
          47501000000,
          47501000000,
          47501000000,
          53926000000,
          57057000000,
          64725000000,
          75183000000,
          75183000000,
          75183000000,
          75183000000,
          75183000000,
          86742000000,
          94904000000,
          106758000000,
          116371000000,
          116371000000,
          116371000000,
          116371000000,
          116371000000,
          116371000000,
          138681000000,
          150934000000,
          162896000000,
          176064000000,
          176064000000,
          176064000000,
          176064000000,
          176064000000,
          176064000000,
          196088000000,
          194743000000,
          199856000000,
          207000000000,
          207000000000,
          207000000000,
          207000000000,
          207000000000,
          207000000000,
          225184000000,
          205989000000,
          222520000000,
          231839000000,
          231839000000,
          231839000000,
          231839000000,
          231839000000,
          231839000000,
          261894000000,
          261194000000,
          273151000000,
          290479000000,
          290479000000,
          290479000000,
          290479000000,
          290345000000,
          293284000000,
          305277000000,
          305602000000,
          321686000000,
          321686000000,
          321686000000,
          321686000000,
          321686000000,
          331141000000,
          334532000000,
          345173000000,
          375319000000,
          375319000000,
          375319000000,
          375319000000,
          375319000000,
          406794000000,
          367502000000,
          349197000000,
          365725000000,
          365725000000,
          365725000000,
          365725000000,
          365725000000,
          373719000000,
          341998000000,
          322239000000,
          338516000000,
          338516000000,
          338516000000,
          338516000000,
          338516000000,
          340618000000,
          320400000000,
          317344000000,
          323888000000,
          323888000000,
          323888000000,
          323888000000,
          323888000000,
          354054000000,
          337158000000,
          329840000000,
          351002000000,
          351002000000,
          351002000000,
          351002000000,
          351002000000,
          381191000000,
          350662000000,
          336309000000,
          352755000000
         ]
        },
        {
         "mode": "lines+markers",
         "name": "IBM",
         "type": "scatter",
         "x": [
          "2008-12-31",
          "2008-12-31",
          "2008-12-31",
          "2008-12-31",
          "2009-06-30",
          "2009-09-30",
          "2009-12-31",
          "2009-12-31",
          "2009-12-31",
          "2009-12-31",
          "2009-12-31",
          "2009-12-31",
          "2010-03-31",
          "2010-06-30",
          "2010-09-30",
          "2010-12-31",
          "2010-12-31",
          "2010-12-31",
          "2010-12-31",
          "2010-12-31",
          "2010-12-31",
          "2011-03-31",
          "2011-06-30",
          "2011-09-30",
          "2011-12-31",
          "2011-12-31",
          "2011-12-31",
          "2011-12-31",
          "2011-12-31",
          "2011-12-31",
          "2012-03-31",
          "2012-06-30",
          "2012-09-30",
          "2012-12-31",
          "2012-12-31",
          "2012-12-31",
          "2012-12-31",
          "2012-12-31",
          "2012-12-31",
          "2013-03-31",
          "2013-06-30",
          "2013-09-30",
          "2013-12-31",
          "2013-12-31",
          "2013-12-31",
          "2013-12-31",
          "2013-12-31",
          "2013-12-31",
          "2013-12-31",
          "2014-03-31",
          "2014-06-30",
          "2014-09-30",
          "2014-12-31",
          "2014-12-31",
          "2014-12-31",
          "2014-12-31",
          "2014-12-31",
          "2014-12-31",
          "2014-12-31",
          "2015-03-31",
          "2015-06-30",
          "2015-09-30",
          "2015-12-31",
          "2015-12-31",
          "2015-12-31",
          "2015-12-31",
          "2015-12-31",
          "2015-12-31",
          "2015-12-31",
          "2016-03-31",
          "2016-06-30",
          "2016-09-30",
          "2016-12-31",
          "2016-12-31",
          "2016-12-31",
          "2016-12-31",
          "2016-12-31",
          "2016-12-31",
          "2017-03-31",
          "2017-06-30",
          "2017-09-30",
          "2017-12-31",
          "2017-12-31",
          "2017-12-31",
          "2017-12-31",
          "2017-12-31",
          "2017-12-31",
          "2018-03-31",
          "2018-06-30",
          "2018-09-30",
          "2018-12-31",
          "2018-12-31",
          "2018-12-31",
          "2018-12-31",
          "2018-12-31",
          "2018-12-31",
          "2019-03-31",
          "2019-06-30",
          "2019-09-30",
          "2019-12-31",
          "2019-12-31",
          "2019-12-31",
          "2019-12-31",
          "2019-12-31",
          "2019-12-31",
          "2020-03-31",
          "2020-06-30",
          "2020-09-30",
          "2020-12-31",
          "2020-12-31",
          "2020-12-31",
          "2020-12-31",
          "2020-12-31",
          "2021-03-31",
          "2021-06-30",
          "2021-09-30",
          "2021-12-31",
          "2021-12-31",
          "2021-12-31",
          "2021-12-31",
          "2022-03-31",
          "2022-06-30",
          "2022-09-30"
         ],
         "y": [
          109524000000,
          109524000000,
          109524000000,
          109524000000,
          103655000000,
          103675000000,
          109022000000,
          109022000000,
          109022000000,
          109022000000,
          109022000000,
          109022000000,
          105208000000,
          103420000000,
          107174000000,
          113452000000,
          113452000000,
          113452000000,
          113452000000,
          113452000000,
          113452000000,
          112960000000,
          113474000000,
          110158000000,
          116433000000,
          116433000000,
          116433000000,
          116433000000,
          116433000000,
          116433000000,
          115347000000,
          113832000000,
          115778000000,
          119213000000,
          119213000000,
          119213000000,
          119213000000,
          119213000000,
          119213000000,
          117258000000,
          115153000000,
          117845000000,
          125641000000,
          125641000000,
          126223000000,
          126223000000,
          126223000000,
          126223000000,
          126223000000,
          122646000000,
          124314000000,
          118911000000,
          117532000000,
          117532000000,
          117532000000,
          117532000000,
          117271000000,
          117271000000,
          117271000000,
          112037000000,
          112729000000,
          108649000000,
          110495000000,
          110495000000,
          110495000000,
          110495000000,
          110495000000,
          110495000000,
          110495000000,
          118856000000,
          118056000000,
          115606000000,
          117470000000,
          117470000000,
          117470000000,
          117470000000,
          117470000000,
          117470000000,
          117495000000,
          120495000000,
          121636000000,
          125356000000,
          125356000000,
          125356000000,
          125356000000,
          125356000000,
          125356000000,
          125285000000,
          121622000000,
          121990000000,
          123382000000,
          123382000000,
          123382000000,
          123382000000,
          123382000000,
          123382000000,
          130926000000,
          154652000000,
          149620000000,
          152186000000,
          152186000000,
          152186000000,
          152186000000,
          152186000000,
          152186000000,
          153403000000,
          154200000000,
          154128000000,
          155971000000,
          155971000000,
          155971000000,
          155971000000,
          155971000000,
          148629000000,
          146814000000,
          144214000000,
          132001000000,
          132001000000,
          132001000000,
          132001000000,
          133275000000,
          127503000000,
          125850000000
         ]
        }
       ],
       "layout": {
        "template": {
         "data": {
          "bar": [
           {
            "error_x": {
             "color": "#2a3f5f"
            },
            "error_y": {
             "color": "#2a3f5f"
            },
            "marker": {
             "line": {
              "color": "#E5ECF6",
              "width": 0.5
             },
             "pattern": {
              "fillmode": "overlay",
              "size": 10,
              "solidity": 0.2
             }
            },
            "type": "bar"
           }
          ],
          "barpolar": [
           {
            "marker": {
             "line": {
              "color": "#E5ECF6",
              "width": 0.5
             },
             "pattern": {
              "fillmode": "overlay",
              "size": 10,
              "solidity": 0.2
             }
            },
            "type": "barpolar"
           }
          ],
          "carpet": [
           {
            "aaxis": {
             "endlinecolor": "#2a3f5f",
             "gridcolor": "white",
             "linecolor": "white",
             "minorgridcolor": "white",
             "startlinecolor": "#2a3f5f"
            },
            "baxis": {
             "endlinecolor": "#2a3f5f",
             "gridcolor": "white",
             "linecolor": "white",
             "minorgridcolor": "white",
             "startlinecolor": "#2a3f5f"
            },
            "type": "carpet"
           }
          ],
          "choropleth": [
           {
            "colorbar": {
             "outlinewidth": 0,
             "ticks": ""
            },
            "type": "choropleth"
           }
          ],
          "contour": [
           {
            "colorbar": {
             "outlinewidth": 0,
             "ticks": ""
            },
            "colorscale": [
             [
              0,
              "#0d0887"
             ],
             [
              0.1111111111111111,
              "#46039f"
             ],
             [
              0.2222222222222222,
              "#7201a8"
             ],
             [
              0.3333333333333333,
              "#9c179e"
             ],
             [
              0.4444444444444444,
              "#bd3786"
             ],
             [
              0.5555555555555556,
              "#d8576b"
             ],
             [
              0.6666666666666666,
              "#ed7953"
             ],
             [
              0.7777777777777778,
              "#fb9f3a"
             ],
             [
              0.8888888888888888,
              "#fdca26"
             ],
             [
              1,
              "#f0f921"
             ]
            ],
            "type": "contour"
           }
          ],
          "contourcarpet": [
           {
            "colorbar": {
             "outlinewidth": 0,
             "ticks": ""
            },
            "type": "contourcarpet"
           }
          ],
          "heatmap": [
           {
            "colorbar": {
             "outlinewidth": 0,
             "ticks": ""
            },
            "colorscale": [
             [
              0,
              "#0d0887"
             ],
             [
              0.1111111111111111,
              "#46039f"
             ],
             [
              0.2222222222222222,
              "#7201a8"
             ],
             [
              0.3333333333333333,
              "#9c179e"
             ],
             [
              0.4444444444444444,
              "#bd3786"
             ],
             [
              0.5555555555555556,
              "#d8576b"
             ],
             [
              0.6666666666666666,
              "#ed7953"
             ],
             [
              0.7777777777777778,
              "#fb9f3a"
             ],
             [
              0.8888888888888888,
              "#fdca26"
             ],
             [
              1,
              "#f0f921"
             ]
            ],
            "type": "heatmap"
           }
          ],
          "heatmapgl": [
           {
            "colorbar": {
             "outlinewidth": 0,
             "ticks": ""
            },
            "colorscale": [
             [
              0,
              "#0d0887"
             ],
             [
              0.1111111111111111,
              "#46039f"
             ],
             [
              0.2222222222222222,
              "#7201a8"
             ],
             [
              0.3333333333333333,
              "#9c179e"
             ],
             [
              0.4444444444444444,
              "#bd3786"
             ],
             [
              0.5555555555555556,
              "#d8576b"
             ],
             [
              0.6666666666666666,
              "#ed7953"
             ],
             [
              0.7777777777777778,
              "#fb9f3a"
             ],
             [
              0.8888888888888888,
              "#fdca26"
             ],
             [
              1,
              "#f0f921"
             ]
            ],
            "type": "heatmapgl"
           }
          ],
          "histogram": [
           {
            "marker": {
             "pattern": {
              "fillmode": "overlay",
              "size": 10,
              "solidity": 0.2
             }
            },
            "type": "histogram"
           }
          ],
          "histogram2d": [
           {
            "colorbar": {
             "outlinewidth": 0,
             "ticks": ""
            },
            "colorscale": [
             [
              0,
              "#0d0887"
             ],
             [
              0.1111111111111111,
              "#46039f"
             ],
             [
              0.2222222222222222,
              "#7201a8"
             ],
             [
              0.3333333333333333,
              "#9c179e"
             ],
             [
              0.4444444444444444,
              "#bd3786"
             ],
             [
              0.5555555555555556,
              "#d8576b"
             ],
             [
              0.6666666666666666,
              "#ed7953"
             ],
             [
              0.7777777777777778,
              "#fb9f3a"
             ],
             [
              0.8888888888888888,
              "#fdca26"
             ],
             [
              1,
              "#f0f921"
             ]
            ],
            "type": "histogram2d"
           }
          ],
          "histogram2dcontour": [
           {
            "colorbar": {
             "outlinewidth": 0,
             "ticks": ""
            },
            "colorscale": [
             [
              0,
              "#0d0887"
             ],
             [
              0.1111111111111111,
              "#46039f"
             ],
             [
              0.2222222222222222,
              "#7201a8"
             ],
             [
              0.3333333333333333,
              "#9c179e"
             ],
             [
              0.4444444444444444,
              "#bd3786"
             ],
             [
              0.5555555555555556,
              "#d8576b"
             ],
             [
              0.6666666666666666,
              "#ed7953"
             ],
             [
              0.7777777777777778,
              "#fb9f3a"
             ],
             [
              0.8888888888888888,
              "#fdca26"
             ],
             [
              1,
              "#f0f921"
             ]
            ],
            "type": "histogram2dcontour"
           }
          ],
          "mesh3d": [
           {
            "colorbar": {
             "outlinewidth": 0,
             "ticks": ""
            },
            "type": "mesh3d"
           }
          ],
          "parcoords": [
           {
            "line": {
             "colorbar": {
              "outlinewidth": 0,
              "ticks": ""
             }
            },
            "type": "parcoords"
           }
          ],
          "pie": [
           {
            "automargin": true,
            "type": "pie"
           }
          ],
          "scatter": [
           {
            "fillpattern": {
             "fillmode": "overlay",
             "size": 10,
             "solidity": 0.2
            },
            "type": "scatter"
           }
          ],
          "scatter3d": [
           {
            "line": {
             "colorbar": {
              "outlinewidth": 0,
              "ticks": ""
             }
            },
            "marker": {
             "colorbar": {
              "outlinewidth": 0,
              "ticks": ""
             }
            },
            "type": "scatter3d"
           }
          ],
          "scattercarpet": [
           {
            "marker": {
             "colorbar": {
              "outlinewidth": 0,
              "ticks": ""
             }
            },
            "type": "scattercarpet"
           }
          ],
          "scattergeo": [
           {
            "marker": {
             "colorbar": {
              "outlinewidth": 0,
              "ticks": ""
             }
            },
            "type": "scattergeo"
           }
          ],
          "scattergl": [
           {
            "marker": {
             "colorbar": {
              "outlinewidth": 0,
              "ticks": ""
             }
            },
            "type": "scattergl"
           }
          ],
          "scattermapbox": [
           {
            "marker": {
             "colorbar": {
              "outlinewidth": 0,
              "ticks": ""
             }
            },
            "type": "scattermapbox"
           }
          ],
          "scatterpolar": [
           {
            "marker": {
             "colorbar": {
              "outlinewidth": 0,
              "ticks": ""
             }
            },
            "type": "scatterpolar"
           }
          ],
          "scatterpolargl": [
           {
            "marker": {
             "colorbar": {
              "outlinewidth": 0,
              "ticks": ""
             }
            },
            "type": "scatterpolargl"
           }
          ],
          "scatterternary": [
           {
            "marker": {
             "colorbar": {
              "outlinewidth": 0,
              "ticks": ""
             }
            },
            "type": "scatterternary"
           }
          ],
          "surface": [
           {
            "colorbar": {
             "outlinewidth": 0,
             "ticks": ""
            },
            "colorscale": [
             [
              0,
              "#0d0887"
             ],
             [
              0.1111111111111111,
              "#46039f"
             ],
             [
              0.2222222222222222,
              "#7201a8"
             ],
             [
              0.3333333333333333,
              "#9c179e"
             ],
             [
              0.4444444444444444,
              "#bd3786"
             ],
             [
              0.5555555555555556,
              "#d8576b"
             ],
             [
              0.6666666666666666,
              "#ed7953"
             ],
             [
              0.7777777777777778,
              "#fb9f3a"
             ],
             [
              0.8888888888888888,
              "#fdca26"
             ],
             [
              1,
              "#f0f921"
             ]
            ],
            "type": "surface"
           }
          ],
          "table": [
           {
            "cells": {
             "fill": {
              "color": "#EBF0F8"
             },
             "line": {
              "color": "white"
             }
            },
            "header": {
             "fill": {
              "color": "#C8D4E3"
             },
             "line": {
              "color": "white"
             }
            },
            "type": "table"
           }
          ]
         },
         "layout": {
          "annotationdefaults": {
           "arrowcolor": "#2a3f5f",
           "arrowhead": 0,
           "arrowwidth": 1
          },
          "autotypenumbers": "strict",
          "coloraxis": {
           "colorbar": {
            "outlinewidth": 0,
            "ticks": ""
           }
          },
          "colorscale": {
           "diverging": [
            [
             0,
             "#8e0152"
            ],
            [
             0.1,
             "#c51b7d"
            ],
            [
             0.2,
             "#de77ae"
            ],
            [
             0.3,
             "#f1b6da"
            ],
            [
             0.4,
             "#fde0ef"
            ],
            [
             0.5,
             "#f7f7f7"
            ],
            [
             0.6,
             "#e6f5d0"
            ],
            [
             0.7,
             "#b8e186"
            ],
            [
             0.8,
             "#7fbc41"
            ],
            [
             0.9,
             "#4d9221"
            ],
            [
             1,
             "#276419"
            ]
           ],
           "sequential": [
            [
             0,
             "#0d0887"
            ],
            [
             0.1111111111111111,
             "#46039f"
            ],
            [
             0.2222222222222222,
             "#7201a8"
            ],
            [
             0.3333333333333333,
             "#9c179e"
            ],
            [
             0.4444444444444444,
             "#bd3786"
            ],
            [
             0.5555555555555556,
             "#d8576b"
            ],
            [
             0.6666666666666666,
             "#ed7953"
            ],
            [
             0.7777777777777778,
             "#fb9f3a"
            ],
            [
             0.8888888888888888,
             "#fdca26"
            ],
            [
             1,
             "#f0f921"
            ]
           ],
           "sequentialminus": [
            [
             0,
             "#0d0887"
            ],
            [
             0.1111111111111111,
             "#46039f"
            ],
            [
             0.2222222222222222,
             "#7201a8"
            ],
            [
             0.3333333333333333,
             "#9c179e"
            ],
            [
             0.4444444444444444,
             "#bd3786"
            ],
            [
             0.5555555555555556,
             "#d8576b"
            ],
            [
             0.6666666666666666,
             "#ed7953"
            ],
            [
             0.7777777777777778,
             "#fb9f3a"
            ],
            [
             0.8888888888888888,
             "#fdca26"
            ],
            [
             1,
             "#f0f921"
            ]
           ]
          },
          "colorway": [
           "#636efa",
           "#EF553B",
           "#00cc96",
           "#ab63fa",
           "#FFA15A",
           "#19d3f3",
           "#FF6692",
           "#B6E880",
           "#FF97FF",
           "#FECB52"
          ],
          "font": {
           "color": "#2a3f5f"
          },
          "geo": {
           "bgcolor": "white",
           "lakecolor": "white",
           "landcolor": "#E5ECF6",
           "showlakes": true,
           "showland": true,
           "subunitcolor": "white"
          },
          "hoverlabel": {
           "align": "left"
          },
          "hovermode": "closest",
          "mapbox": {
           "style": "light"
          },
          "paper_bgcolor": "white",
          "plot_bgcolor": "#E5ECF6",
          "polar": {
           "angularaxis": {
            "gridcolor": "white",
            "linecolor": "white",
            "ticks": ""
           },
           "bgcolor": "#E5ECF6",
           "radialaxis": {
            "gridcolor": "white",
            "linecolor": "white",
            "ticks": ""
           }
          },
          "scene": {
           "xaxis": {
            "backgroundcolor": "#E5ECF6",
            "gridcolor": "white",
            "gridwidth": 2,
            "linecolor": "white",
            "showbackground": true,
            "ticks": "",
            "zerolinecolor": "white"
           },
           "yaxis": {
            "backgroundcolor": "#E5ECF6",
            "gridcolor": "white",
            "gridwidth": 2,
            "linecolor": "white",
            "showbackground": true,
            "ticks": "",
            "zerolinecolor": "white"
           },
           "zaxis": {
            "backgroundcolor": "#E5ECF6",
            "gridcolor": "white",
            "gridwidth": 2,
            "linecolor": "white",
            "showbackground": true,
            "ticks": "",
            "zerolinecolor": "white"
           }
          },
          "shapedefaults": {
           "line": {
            "color": "#2a3f5f"
           }
          },
          "ternary": {
           "aaxis": {
            "gridcolor": "white",
            "linecolor": "white",
            "ticks": ""
           },
           "baxis": {
            "gridcolor": "white",
            "linecolor": "white",
            "ticks": ""
           },
           "bgcolor": "#E5ECF6",
           "caxis": {
            "gridcolor": "white",
            "linecolor": "white",
            "ticks": ""
           }
          },
          "title": {
           "x": 0.05
          },
          "xaxis": {
           "automargin": true,
           "gridcolor": "white",
           "linecolor": "white",
           "ticks": "",
           "title": {
            "standoff": 15
           },
           "zerolinecolor": "white",
           "zerolinewidth": 2
          },
          "yaxis": {
           "automargin": true,
           "gridcolor": "white",
           "linecolor": "white",
           "ticks": "",
           "title": {
            "standoff": 15
           },
           "zerolinecolor": "white",
           "zerolinewidth": 2
          }
         }
        }
       }
      },
      "text/html": [
       "<div>                            <div id=\"3ab2572c-e763-4f01-8380-8aab8daad411\" class=\"plotly-graph-div\" style=\"height:525px; width:100%;\"></div>            <script type=\"text/javascript\">                require([\"plotly\"], function(Plotly) {                    window.PLOTLYENV=window.PLOTLYENV || {};                                    if (document.getElementById(\"3ab2572c-e763-4f01-8380-8aab8daad411\")) {                    Plotly.newPlot(                        \"3ab2572c-e763-4f01-8380-8aab8daad411\",                        [{\"mode\":\"lines+markers\",\"name\":\"Cisco\",\"x\":[\"2009-07-25\",\"2009-07-25\",\"2009-07-25\",\"2009-07-25\",\"2009-07-25\",\"2009-10-24\",\"2010-01-23\",\"2010-05-01\",\"2010-07-31\",\"2010-07-31\",\"2010-07-31\",\"2010-07-31\",\"2010-07-31\",\"2010-07-31\",\"2010-10-30\",\"2011-01-29\",\"2011-04-30\",\"2011-07-30\",\"2011-07-30\",\"2011-07-30\",\"2011-07-30\",\"2011-07-30\",\"2011-10-29\",\"2012-01-28\",\"2012-04-28\",\"2012-07-28\",\"2012-07-28\",\"2012-07-28\",\"2012-07-28\",\"2012-07-28\",\"2012-10-27\",\"2013-01-26\",\"2013-04-27\",\"2013-07-27\",\"2013-07-27\",\"2013-07-27\",\"2013-07-27\",\"2013-07-27\",\"2013-10-26\",\"2014-01-25\",\"2014-04-26\",\"2014-07-26\",\"2014-07-26\",\"2014-07-26\",\"2014-07-26\",\"2014-07-26\",\"2014-10-25\",\"2015-01-24\",\"2015-04-25\",\"2015-07-25\",\"2015-07-25\",\"2015-07-25\",\"2015-07-25\",\"2015-07-25\",\"2015-10-24\",\"2016-01-23\",\"2016-04-30\",\"2016-07-30\",\"2016-07-30\",\"2016-07-30\",\"2016-07-30\",\"2016-07-30\",\"2016-10-29\",\"2017-01-28\",\"2017-04-29\",\"2017-07-29\",\"2017-07-29\",\"2017-07-29\",\"2017-07-29\",\"2017-07-29\",\"2017-10-28\",\"2018-01-27\",\"2018-04-28\",\"2018-07-28\",\"2018-07-28\",\"2018-07-28\",\"2018-07-28\",\"2018-07-28\",\"2018-07-29\",\"2018-07-29\",\"2018-07-29\",\"2018-07-29\",\"2018-10-27\",\"2019-01-26\",\"2019-04-27\",\"2019-07-27\",\"2019-07-27\",\"2019-07-27\",\"2019-07-27\",\"2019-07-27\",\"2019-10-26\",\"2020-01-25\",\"2020-04-25\",\"2020-07-25\",\"2020-07-25\",\"2020-07-25\",\"2020-07-25\",\"2020-07-25\",\"2020-10-24\",\"2021-01-23\",\"2021-05-01\",\"2021-07-31\",\"2021-07-31\",\"2021-07-31\",\"2021-07-31\",\"2021-07-31\",\"2021-10-30\",\"2022-01-29\",\"2022-04-30\",\"2022-07-30\"],\"y\":[68128000000,68128000000,68128000000,68128000000,68128000000,68680000000,76403000000,79292000000,81130000000,81130000000,81130000000,81130000000,81130000000,81130000000,80015000000,81981000000,85350000000,87095000000,87095000000,87095000000,87095000000,87095000000,86964000000,89259000000,91154000000,91759000000,91759000000,91759000000,91759000000,91759000000,92643000000,96378000000,97084000000,101191000000,101191000000,101191000000,101191000000,101191000000,100741000000,98427000000,101856000000,105134000000,105134000000,105134000000,105134000000,105070000000,103978000000,104922000000,106212000000,113481000000,113481000000,113481000000,113481000000,113373000000,111773000000,112642000000,118654000000,121652000000,121652000000,121652000000,121652000000,121652000000,126287000000,126248000000,125950000000,129818000000,129818000000,129818000000,129818000000,129818000000,130522000000,131510000000,114008000000,108784000000,108784000000,108784000000,108784000000,108784000000,109872000000,109872000000,109872000000,109872000000,105429000000,102462000000,97287000000,97793000000,97793000000,97793000000,97793000000,97793000000,92492000000,90426000000,91394000000,94853000000,94853000000,94853000000,94853000000,94853000000,95003000000,95601000000,93896000000,97497000000,97497000000,97497000000,97497000000,97497000000,95981000000,94262000000,92797000000,94002000000],\"type\":\"scatter\"},{\"mode\":\"lines+markers\",\"name\":\"Microsoft\",\"x\":[\"2009-06-30\",\"2009-06-30\",\"2009-06-30\",\"2009-06-30\",\"2009-09-30\",\"2009-12-31\",\"2010-03-31\",\"2010-06-30\",\"2010-06-30\",\"2010-06-30\",\"2010-06-30\",\"2010-06-30\",\"2010-09-30\",\"2010-12-31\",\"2011-03-31\",\"2011-06-30\",\"2011-06-30\",\"2011-06-30\",\"2011-06-30\",\"2011-06-30\",\"2011-09-30\",\"2011-12-31\",\"2012-03-31\",\"2012-06-30\",\"2012-06-30\",\"2012-06-30\",\"2012-06-30\",\"2012-06-30\",\"2012-06-30\",\"2012-09-30\",\"2012-12-31\",\"2013-03-31\",\"2013-06-30\",\"2013-06-30\",\"2013-06-30\",\"2013-06-30\",\"2013-06-30\",\"2013-06-30\",\"2013-09-30\",\"2013-12-31\",\"2014-03-31\",\"2014-06-30\",\"2014-06-30\",\"2014-06-30\",\"2014-06-30\",\"2014-06-30\",\"2014-06-30\",\"2014-09-30\",\"2014-12-31\",\"2015-03-31\",\"2015-06-30\",\"2015-06-30\",\"2015-06-30\",\"2015-06-30\",\"2015-06-30\",\"2015-06-30\",\"2015-09-30\",\"2015-12-31\",\"2016-03-31\",\"2016-06-30\",\"2016-06-30\",\"2016-06-30\",\"2016-06-30\",\"2016-06-30\",\"2016-09-30\",\"2016-12-31\",\"2017-03-31\",\"2017-06-30\",\"2017-06-30\",\"2017-06-30\",\"2017-06-30\",\"2017-06-30\",\"2017-09-30\",\"2017-12-31\",\"2018-03-31\",\"2018-06-30\",\"2018-06-30\",\"2018-06-30\",\"2018-06-30\",\"2018-06-30\",\"2018-09-30\",\"2018-12-31\",\"2019-03-31\",\"2019-06-30\",\"2019-06-30\",\"2019-06-30\",\"2019-06-30\",\"2019-06-30\",\"2019-09-30\",\"2019-12-31\",\"2020-03-31\",\"2020-06-30\",\"2020-06-30\",\"2020-06-30\",\"2020-06-30\",\"2020-06-30\",\"2020-09-30\",\"2020-12-31\",\"2021-03-31\",\"2021-06-30\",\"2021-06-30\",\"2021-06-30\",\"2021-06-30\",\"2021-06-30\",\"2021-09-30\",\"2021-12-31\",\"2022-03-31\",\"2022-06-30\",\"2022-06-30\",\"2022-09-30\"],\"y\":[77888000000,77888000000,77888000000,77888000000,81612000000,82096000000,84910000000,86113000000,86113000000,86113000000,86113000000,86113000000,91540000000,92306000000,99727000000,108704000000,108704000000,108704000000,108704000000,108704000000,107415000000,112243000000,118010000000,121271000000,121271000000,121271000000,121271000000,121271000000,121271000000,121876000000,128683000000,134105000000,142431000000,142431000000,142431000000,142431000000,142431000000,142431000000,142348000000,153543000000,156119000000,172384000000,172384000000,172384000000,172384000000,172384000000,172384000000,169656000000,174848000000,176683000000,174472000000,176223000000,176223000000,176223000000,176223000000,176223000000,172896000000,180098000000,181869000000,193694000000,193468000000,193468000000,193468000000,193468000000,212524000000,224610000000,225017000000,241086000000,250312000000,250312000000,250312000000,250312000000,249097000000,256003000000,245497000000,258848000000,258848000000,258848000000,258848000000,258848000000,257619000000,258859000000,263281000000,286556000000,286556000000,286556000000,286556000000,286556000000,278955000000,282794000000,285449000000,301311000000,301311000000,301311000000,301311000000,301311000000,301001000000,304137000000,308879000000,333779000000,333779000000,333779000000,333779000000,333779000000,335418000000,340389000000,344607000000,364840000000,364840000000,359784000000],\"type\":\"scatter\"},{\"mode\":\"lines+markers\",\"name\":\"Apple\",\"x\":[\"2008-09-27\",\"2008-09-27\",\"2008-09-27\",\"2008-09-27\",\"2009-06-27\",\"2009-09-26\",\"2009-09-26\",\"2009-09-26\",\"2009-09-26\",\"2009-09-26\",\"2009-09-26\",\"2009-09-26\",\"2009-12-26\",\"2010-03-27\",\"2010-06-26\",\"2010-09-25\",\"2010-09-25\",\"2010-09-25\",\"2010-09-25\",\"2010-09-25\",\"2010-12-25\",\"2011-03-26\",\"2011-06-25\",\"2011-09-24\",\"2011-09-24\",\"2011-09-24\",\"2011-09-24\",\"2011-09-24\",\"2011-09-24\",\"2011-12-31\",\"2012-03-31\",\"2012-06-30\",\"2012-09-29\",\"2012-09-29\",\"2012-09-29\",\"2012-09-29\",\"2012-09-29\",\"2012-09-29\",\"2012-12-29\",\"2013-03-30\",\"2013-06-29\",\"2013-09-28\",\"2013-09-28\",\"2013-09-28\",\"2013-09-28\",\"2013-09-28\",\"2013-09-28\",\"2013-12-28\",\"2014-03-29\",\"2014-06-28\",\"2014-09-27\",\"2014-09-27\",\"2014-09-27\",\"2014-09-27\",\"2014-09-27\",\"2014-09-27\",\"2014-12-27\",\"2015-03-28\",\"2015-06-27\",\"2015-09-26\",\"2015-09-26\",\"2015-09-26\",\"2015-09-26\",\"2015-09-26\",\"2015-12-26\",\"2016-03-26\",\"2016-06-25\",\"2016-09-24\",\"2016-09-24\",\"2016-09-24\",\"2016-09-24\",\"2016-09-24\",\"2016-12-31\",\"2017-04-01\",\"2017-07-01\",\"2017-09-30\",\"2017-09-30\",\"2017-09-30\",\"2017-09-30\",\"2017-09-30\",\"2017-12-30\",\"2018-03-31\",\"2018-06-30\",\"2018-09-29\",\"2018-09-29\",\"2018-09-29\",\"2018-09-29\",\"2018-09-29\",\"2018-12-29\",\"2019-03-30\",\"2019-06-29\",\"2019-09-28\",\"2019-09-28\",\"2019-09-28\",\"2019-09-28\",\"2019-09-28\",\"2019-12-28\",\"2020-03-28\",\"2020-06-27\",\"2020-09-26\",\"2020-09-26\",\"2020-09-26\",\"2020-09-26\",\"2020-09-26\",\"2020-12-26\",\"2021-03-27\",\"2021-06-26\",\"2021-09-25\",\"2021-09-25\",\"2021-09-25\",\"2021-09-25\",\"2021-09-25\",\"2021-12-25\",\"2022-03-26\",\"2022-06-25\",\"2022-09-24\"],\"y\":[39572000000,39572000000,36171000000,36171000000,48140000000,53851000000,47501000000,47501000000,47501000000,47501000000,47501000000,47501000000,53926000000,57057000000,64725000000,75183000000,75183000000,75183000000,75183000000,75183000000,86742000000,94904000000,106758000000,116371000000,116371000000,116371000000,116371000000,116371000000,116371000000,138681000000,150934000000,162896000000,176064000000,176064000000,176064000000,176064000000,176064000000,176064000000,196088000000,194743000000,199856000000,207000000000,207000000000,207000000000,207000000000,207000000000,207000000000,225184000000,205989000000,222520000000,231839000000,231839000000,231839000000,231839000000,231839000000,231839000000,261894000000,261194000000,273151000000,290479000000,290479000000,290479000000,290479000000,290345000000,293284000000,305277000000,305602000000,321686000000,321686000000,321686000000,321686000000,321686000000,331141000000,334532000000,345173000000,375319000000,375319000000,375319000000,375319000000,375319000000,406794000000,367502000000,349197000000,365725000000,365725000000,365725000000,365725000000,365725000000,373719000000,341998000000,322239000000,338516000000,338516000000,338516000000,338516000000,338516000000,340618000000,320400000000,317344000000,323888000000,323888000000,323888000000,323888000000,323888000000,354054000000,337158000000,329840000000,351002000000,351002000000,351002000000,351002000000,351002000000,381191000000,350662000000,336309000000,352755000000],\"type\":\"scatter\"},{\"mode\":\"lines+markers\",\"name\":\"IBM\",\"x\":[\"2008-12-31\",\"2008-12-31\",\"2008-12-31\",\"2008-12-31\",\"2009-06-30\",\"2009-09-30\",\"2009-12-31\",\"2009-12-31\",\"2009-12-31\",\"2009-12-31\",\"2009-12-31\",\"2009-12-31\",\"2010-03-31\",\"2010-06-30\",\"2010-09-30\",\"2010-12-31\",\"2010-12-31\",\"2010-12-31\",\"2010-12-31\",\"2010-12-31\",\"2010-12-31\",\"2011-03-31\",\"2011-06-30\",\"2011-09-30\",\"2011-12-31\",\"2011-12-31\",\"2011-12-31\",\"2011-12-31\",\"2011-12-31\",\"2011-12-31\",\"2012-03-31\",\"2012-06-30\",\"2012-09-30\",\"2012-12-31\",\"2012-12-31\",\"2012-12-31\",\"2012-12-31\",\"2012-12-31\",\"2012-12-31\",\"2013-03-31\",\"2013-06-30\",\"2013-09-30\",\"2013-12-31\",\"2013-12-31\",\"2013-12-31\",\"2013-12-31\",\"2013-12-31\",\"2013-12-31\",\"2013-12-31\",\"2014-03-31\",\"2014-06-30\",\"2014-09-30\",\"2014-12-31\",\"2014-12-31\",\"2014-12-31\",\"2014-12-31\",\"2014-12-31\",\"2014-12-31\",\"2014-12-31\",\"2015-03-31\",\"2015-06-30\",\"2015-09-30\",\"2015-12-31\",\"2015-12-31\",\"2015-12-31\",\"2015-12-31\",\"2015-12-31\",\"2015-12-31\",\"2015-12-31\",\"2016-03-31\",\"2016-06-30\",\"2016-09-30\",\"2016-12-31\",\"2016-12-31\",\"2016-12-31\",\"2016-12-31\",\"2016-12-31\",\"2016-12-31\",\"2017-03-31\",\"2017-06-30\",\"2017-09-30\",\"2017-12-31\",\"2017-12-31\",\"2017-12-31\",\"2017-12-31\",\"2017-12-31\",\"2017-12-31\",\"2018-03-31\",\"2018-06-30\",\"2018-09-30\",\"2018-12-31\",\"2018-12-31\",\"2018-12-31\",\"2018-12-31\",\"2018-12-31\",\"2018-12-31\",\"2019-03-31\",\"2019-06-30\",\"2019-09-30\",\"2019-12-31\",\"2019-12-31\",\"2019-12-31\",\"2019-12-31\",\"2019-12-31\",\"2019-12-31\",\"2020-03-31\",\"2020-06-30\",\"2020-09-30\",\"2020-12-31\",\"2020-12-31\",\"2020-12-31\",\"2020-12-31\",\"2020-12-31\",\"2021-03-31\",\"2021-06-30\",\"2021-09-30\",\"2021-12-31\",\"2021-12-31\",\"2021-12-31\",\"2021-12-31\",\"2022-03-31\",\"2022-06-30\",\"2022-09-30\"],\"y\":[109524000000,109524000000,109524000000,109524000000,103655000000,103675000000,109022000000,109022000000,109022000000,109022000000,109022000000,109022000000,105208000000,103420000000,107174000000,113452000000,113452000000,113452000000,113452000000,113452000000,113452000000,112960000000,113474000000,110158000000,116433000000,116433000000,116433000000,116433000000,116433000000,116433000000,115347000000,113832000000,115778000000,119213000000,119213000000,119213000000,119213000000,119213000000,119213000000,117258000000,115153000000,117845000000,125641000000,125641000000,126223000000,126223000000,126223000000,126223000000,126223000000,122646000000,124314000000,118911000000,117532000000,117532000000,117532000000,117532000000,117271000000,117271000000,117271000000,112037000000,112729000000,108649000000,110495000000,110495000000,110495000000,110495000000,110495000000,110495000000,110495000000,118856000000,118056000000,115606000000,117470000000,117470000000,117470000000,117470000000,117470000000,117470000000,117495000000,120495000000,121636000000,125356000000,125356000000,125356000000,125356000000,125356000000,125356000000,125285000000,121622000000,121990000000,123382000000,123382000000,123382000000,123382000000,123382000000,123382000000,130926000000,154652000000,149620000000,152186000000,152186000000,152186000000,152186000000,152186000000,152186000000,153403000000,154200000000,154128000000,155971000000,155971000000,155971000000,155971000000,155971000000,148629000000,146814000000,144214000000,132001000000,132001000000,132001000000,132001000000,133275000000,127503000000,125850000000],\"type\":\"scatter\"}],                        {\"template\":{\"data\":{\"histogram2dcontour\":[{\"type\":\"histogram2dcontour\",\"colorbar\":{\"outlinewidth\":0,\"ticks\":\"\"},\"colorscale\":[[0.0,\"#0d0887\"],[0.1111111111111111,\"#46039f\"],[0.2222222222222222,\"#7201a8\"],[0.3333333333333333,\"#9c179e\"],[0.4444444444444444,\"#bd3786\"],[0.5555555555555556,\"#d8576b\"],[0.6666666666666666,\"#ed7953\"],[0.7777777777777778,\"#fb9f3a\"],[0.8888888888888888,\"#fdca26\"],[1.0,\"#f0f921\"]]}],\"choropleth\":[{\"type\":\"choropleth\",\"colorbar\":{\"outlinewidth\":0,\"ticks\":\"\"}}],\"histogram2d\":[{\"type\":\"histogram2d\",\"colorbar\":{\"outlinewidth\":0,\"ticks\":\"\"},\"colorscale\":[[0.0,\"#0d0887\"],[0.1111111111111111,\"#46039f\"],[0.2222222222222222,\"#7201a8\"],[0.3333333333333333,\"#9c179e\"],[0.4444444444444444,\"#bd3786\"],[0.5555555555555556,\"#d8576b\"],[0.6666666666666666,\"#ed7953\"],[0.7777777777777778,\"#fb9f3a\"],[0.8888888888888888,\"#fdca26\"],[1.0,\"#f0f921\"]]}],\"heatmap\":[{\"type\":\"heatmap\",\"colorbar\":{\"outlinewidth\":0,\"ticks\":\"\"},\"colorscale\":[[0.0,\"#0d0887\"],[0.1111111111111111,\"#46039f\"],[0.2222222222222222,\"#7201a8\"],[0.3333333333333333,\"#9c179e\"],[0.4444444444444444,\"#bd3786\"],[0.5555555555555556,\"#d8576b\"],[0.6666666666666666,\"#ed7953\"],[0.7777777777777778,\"#fb9f3a\"],[0.8888888888888888,\"#fdca26\"],[1.0,\"#f0f921\"]]}],\"heatmapgl\":[{\"type\":\"heatmapgl\",\"colorbar\":{\"outlinewidth\":0,\"ticks\":\"\"},\"colorscale\":[[0.0,\"#0d0887\"],[0.1111111111111111,\"#46039f\"],[0.2222222222222222,\"#7201a8\"],[0.3333333333333333,\"#9c179e\"],[0.4444444444444444,\"#bd3786\"],[0.5555555555555556,\"#d8576b\"],[0.6666666666666666,\"#ed7953\"],[0.7777777777777778,\"#fb9f3a\"],[0.8888888888888888,\"#fdca26\"],[1.0,\"#f0f921\"]]}],\"contourcarpet\":[{\"type\":\"contourcarpet\",\"colorbar\":{\"outlinewidth\":0,\"ticks\":\"\"}}],\"contour\":[{\"type\":\"contour\",\"colorbar\":{\"outlinewidth\":0,\"ticks\":\"\"},\"colorscale\":[[0.0,\"#0d0887\"],[0.1111111111111111,\"#46039f\"],[0.2222222222222222,\"#7201a8\"],[0.3333333333333333,\"#9c179e\"],[0.4444444444444444,\"#bd3786\"],[0.5555555555555556,\"#d8576b\"],[0.6666666666666666,\"#ed7953\"],[0.7777777777777778,\"#fb9f3a\"],[0.8888888888888888,\"#fdca26\"],[1.0,\"#f0f921\"]]}],\"surface\":[{\"type\":\"surface\",\"colorbar\":{\"outlinewidth\":0,\"ticks\":\"\"},\"colorscale\":[[0.0,\"#0d0887\"],[0.1111111111111111,\"#46039f\"],[0.2222222222222222,\"#7201a8\"],[0.3333333333333333,\"#9c179e\"],[0.4444444444444444,\"#bd3786\"],[0.5555555555555556,\"#d8576b\"],[0.6666666666666666,\"#ed7953\"],[0.7777777777777778,\"#fb9f3a\"],[0.8888888888888888,\"#fdca26\"],[1.0,\"#f0f921\"]]}],\"mesh3d\":[{\"type\":\"mesh3d\",\"colorbar\":{\"outlinewidth\":0,\"ticks\":\"\"}}],\"scatter\":[{\"fillpattern\":{\"fillmode\":\"overlay\",\"size\":10,\"solidity\":0.2},\"type\":\"scatter\"}],\"parcoords\":[{\"type\":\"parcoords\",\"line\":{\"colorbar\":{\"outlinewidth\":0,\"ticks\":\"\"}}}],\"scatterpolargl\":[{\"type\":\"scatterpolargl\",\"marker\":{\"colorbar\":{\"outlinewidth\":0,\"ticks\":\"\"}}}],\"bar\":[{\"error_x\":{\"color\":\"#2a3f5f\"},\"error_y\":{\"color\":\"#2a3f5f\"},\"marker\":{\"line\":{\"color\":\"#E5ECF6\",\"width\":0.5},\"pattern\":{\"fillmode\":\"overlay\",\"size\":10,\"solidity\":0.2}},\"type\":\"bar\"}],\"scattergeo\":[{\"type\":\"scattergeo\",\"marker\":{\"colorbar\":{\"outlinewidth\":0,\"ticks\":\"\"}}}],\"scatterpolar\":[{\"type\":\"scatterpolar\",\"marker\":{\"colorbar\":{\"outlinewidth\":0,\"ticks\":\"\"}}}],\"histogram\":[{\"marker\":{\"pattern\":{\"fillmode\":\"overlay\",\"size\":10,\"solidity\":0.2}},\"type\":\"histogram\"}],\"scattergl\":[{\"type\":\"scattergl\",\"marker\":{\"colorbar\":{\"outlinewidth\":0,\"ticks\":\"\"}}}],\"scatter3d\":[{\"type\":\"scatter3d\",\"line\":{\"colorbar\":{\"outlinewidth\":0,\"ticks\":\"\"}},\"marker\":{\"colorbar\":{\"outlinewidth\":0,\"ticks\":\"\"}}}],\"scattermapbox\":[{\"type\":\"scattermapbox\",\"marker\":{\"colorbar\":{\"outlinewidth\":0,\"ticks\":\"\"}}}],\"scatterternary\":[{\"type\":\"scatterternary\",\"marker\":{\"colorbar\":{\"outlinewidth\":0,\"ticks\":\"\"}}}],\"scattercarpet\":[{\"type\":\"scattercarpet\",\"marker\":{\"colorbar\":{\"outlinewidth\":0,\"ticks\":\"\"}}}],\"carpet\":[{\"aaxis\":{\"endlinecolor\":\"#2a3f5f\",\"gridcolor\":\"white\",\"linecolor\":\"white\",\"minorgridcolor\":\"white\",\"startlinecolor\":\"#2a3f5f\"},\"baxis\":{\"endlinecolor\":\"#2a3f5f\",\"gridcolor\":\"white\",\"linecolor\":\"white\",\"minorgridcolor\":\"white\",\"startlinecolor\":\"#2a3f5f\"},\"type\":\"carpet\"}],\"table\":[{\"cells\":{\"fill\":{\"color\":\"#EBF0F8\"},\"line\":{\"color\":\"white\"}},\"header\":{\"fill\":{\"color\":\"#C8D4E3\"},\"line\":{\"color\":\"white\"}},\"type\":\"table\"}],\"barpolar\":[{\"marker\":{\"line\":{\"color\":\"#E5ECF6\",\"width\":0.5},\"pattern\":{\"fillmode\":\"overlay\",\"size\":10,\"solidity\":0.2}},\"type\":\"barpolar\"}],\"pie\":[{\"automargin\":true,\"type\":\"pie\"}]},\"layout\":{\"autotypenumbers\":\"strict\",\"colorway\":[\"#636efa\",\"#EF553B\",\"#00cc96\",\"#ab63fa\",\"#FFA15A\",\"#19d3f3\",\"#FF6692\",\"#B6E880\",\"#FF97FF\",\"#FECB52\"],\"font\":{\"color\":\"#2a3f5f\"},\"hovermode\":\"closest\",\"hoverlabel\":{\"align\":\"left\"},\"paper_bgcolor\":\"white\",\"plot_bgcolor\":\"#E5ECF6\",\"polar\":{\"bgcolor\":\"#E5ECF6\",\"angularaxis\":{\"gridcolor\":\"white\",\"linecolor\":\"white\",\"ticks\":\"\"},\"radialaxis\":{\"gridcolor\":\"white\",\"linecolor\":\"white\",\"ticks\":\"\"}},\"ternary\":{\"bgcolor\":\"#E5ECF6\",\"aaxis\":{\"gridcolor\":\"white\",\"linecolor\":\"white\",\"ticks\":\"\"},\"baxis\":{\"gridcolor\":\"white\",\"linecolor\":\"white\",\"ticks\":\"\"},\"caxis\":{\"gridcolor\":\"white\",\"linecolor\":\"white\",\"ticks\":\"\"}},\"coloraxis\":{\"colorbar\":{\"outlinewidth\":0,\"ticks\":\"\"}},\"colorscale\":{\"sequential\":[[0.0,\"#0d0887\"],[0.1111111111111111,\"#46039f\"],[0.2222222222222222,\"#7201a8\"],[0.3333333333333333,\"#9c179e\"],[0.4444444444444444,\"#bd3786\"],[0.5555555555555556,\"#d8576b\"],[0.6666666666666666,\"#ed7953\"],[0.7777777777777778,\"#fb9f3a\"],[0.8888888888888888,\"#fdca26\"],[1.0,\"#f0f921\"]],\"sequentialminus\":[[0.0,\"#0d0887\"],[0.1111111111111111,\"#46039f\"],[0.2222222222222222,\"#7201a8\"],[0.3333333333333333,\"#9c179e\"],[0.4444444444444444,\"#bd3786\"],[0.5555555555555556,\"#d8576b\"],[0.6666666666666666,\"#ed7953\"],[0.7777777777777778,\"#fb9f3a\"],[0.8888888888888888,\"#fdca26\"],[1.0,\"#f0f921\"]],\"diverging\":[[0,\"#8e0152\"],[0.1,\"#c51b7d\"],[0.2,\"#de77ae\"],[0.3,\"#f1b6da\"],[0.4,\"#fde0ef\"],[0.5,\"#f7f7f7\"],[0.6,\"#e6f5d0\"],[0.7,\"#b8e186\"],[0.8,\"#7fbc41\"],[0.9,\"#4d9221\"],[1,\"#276419\"]]},\"xaxis\":{\"gridcolor\":\"white\",\"linecolor\":\"white\",\"ticks\":\"\",\"title\":{\"standoff\":15},\"zerolinecolor\":\"white\",\"automargin\":true,\"zerolinewidth\":2},\"yaxis\":{\"gridcolor\":\"white\",\"linecolor\":\"white\",\"ticks\":\"\",\"title\":{\"standoff\":15},\"zerolinecolor\":\"white\",\"automargin\":true,\"zerolinewidth\":2},\"scene\":{\"xaxis\":{\"backgroundcolor\":\"#E5ECF6\",\"gridcolor\":\"white\",\"linecolor\":\"white\",\"showbackground\":true,\"ticks\":\"\",\"zerolinecolor\":\"white\",\"gridwidth\":2},\"yaxis\":{\"backgroundcolor\":\"#E5ECF6\",\"gridcolor\":\"white\",\"linecolor\":\"white\",\"showbackground\":true,\"ticks\":\"\",\"zerolinecolor\":\"white\",\"gridwidth\":2},\"zaxis\":{\"backgroundcolor\":\"#E5ECF6\",\"gridcolor\":\"white\",\"linecolor\":\"white\",\"showbackground\":true,\"ticks\":\"\",\"zerolinecolor\":\"white\",\"gridwidth\":2}},\"shapedefaults\":{\"line\":{\"color\":\"#2a3f5f\"}},\"annotationdefaults\":{\"arrowcolor\":\"#2a3f5f\",\"arrowhead\":0,\"arrowwidth\":1},\"geo\":{\"bgcolor\":\"white\",\"landcolor\":\"#E5ECF6\",\"subunitcolor\":\"white\",\"showland\":true,\"showlakes\":true,\"lakecolor\":\"white\"},\"title\":{\"x\":0.05},\"mapbox\":{\"style\":\"light\"}}}},                        {\"responsive\": true}                    ).then(function(){\n",
       "                            \n",
       "var gd = document.getElementById('3ab2572c-e763-4f01-8380-8aab8daad411');\n",
       "var x = new MutationObserver(function (mutations, observer) {{\n",
       "        var display = window.getComputedStyle(gd).display;\n",
       "        if (!display || display === 'none') {{\n",
       "            console.log([gd, 'removed!']);\n",
       "            Plotly.purge(gd);\n",
       "            observer.disconnect();\n",
       "        }}\n",
       "}});\n",
       "\n",
       "// Listen for the removal of the full notebook cells\n",
       "var notebookContainer = gd.closest('#notebook-container');\n",
       "if (notebookContainer) {{\n",
       "    x.observe(notebookContainer, {childList: true});\n",
       "}}\n",
       "\n",
       "// Listen for the clearing of the current output cell\n",
       "var outputEl = gd.closest('.output');\n",
       "if (outputEl) {{\n",
       "    x.observe(outputEl, {childList: true});\n",
       "}}\n",
       "\n",
       "                        })                };                });            </script>        </div>"
      ]
     },
     "metadata": {},
     "output_type": "display_data"
    }
   ],
   "source": [
    "# Visualize the data\n",
    "\n",
    "fig = go.Figure()\n",
    "\n",
    "# Add traces\n",
    "fig.add_trace(go.Scatter(x=assets_timeseries1[\"end\"], y=assets_timeseries1[\"val\"],\n",
    "                    mode='lines+markers',\n",
    "                    name='Cisco'))\n",
    "fig.add_trace(go.Scatter(x=assets_timeseries2[\"end\"], y=assets_timeseries2[\"val\"],\n",
    "                    mode='lines+markers',\n",
    "                    name='Microsoft'))\n",
    "\n",
    "\n",
    "fig.add_trace(go.Scatter(x=assets_timeseries3[\"end\"], y=assets_timeseries3[\"val\"],\n",
    "                    mode='lines+markers',\n",
    "                    name='Apple'))\n",
    "\n",
    "fig.add_trace(go.Scatter(x=assets_timeseries4[\"end\"], y=assets_timeseries4[\"val\"],\n",
    "                    mode='lines+markers',\n",
    "                    name='IBM'))\n",
    "\n",
    "fig.show()"
   ]
  },
  {
   "cell_type": "code",
   "execution_count": 39,
   "id": "540d66f1",
   "metadata": {},
   "outputs": [
    {
     "data": {
      "application/vnd.plotly.v1+json": {
       "config": {
        "plotlyServerURL": "https://plot.ly"
       },
       "data": [
        {
         "mode": "lines+markers",
         "name": "Cisco",
         "type": "scatter",
         "x": [
          "2009-07-25",
          "2009-07-25",
          "2009-07-25",
          "2009-07-25",
          "2009-07-25",
          "2009-10-24",
          "2010-01-23",
          "2010-05-01",
          "2010-07-31",
          "2010-07-31",
          "2010-07-31",
          "2010-07-31",
          "2010-07-31",
          "2010-07-31",
          "2010-10-30",
          "2011-01-29",
          "2011-04-30",
          "2011-07-30",
          "2011-07-30",
          "2011-07-30",
          "2011-07-30",
          "2011-07-30",
          "2011-10-29",
          "2012-01-28",
          "2012-04-28",
          "2012-07-28",
          "2012-07-28",
          "2012-07-28",
          "2012-07-28",
          "2012-07-28",
          "2012-10-27",
          "2013-01-26",
          "2013-04-27",
          "2013-07-27",
          "2013-07-27",
          "2013-07-27",
          "2013-07-27",
          "2013-07-27",
          "2013-10-26",
          "2014-01-25",
          "2014-04-26",
          "2014-07-26",
          "2014-07-26",
          "2014-07-26",
          "2014-07-26",
          "2014-07-26",
          "2014-10-25",
          "2015-01-24",
          "2015-04-25",
          "2015-07-25",
          "2015-07-25",
          "2015-07-25",
          "2015-07-25",
          "2015-07-25",
          "2015-10-24",
          "2016-01-23",
          "2016-04-30",
          "2016-07-30",
          "2016-07-30",
          "2016-07-30",
          "2016-07-30",
          "2016-07-30",
          "2016-10-29",
          "2017-01-28",
          "2017-04-29",
          "2017-07-29",
          "2017-07-29",
          "2017-07-29",
          "2017-07-29",
          "2017-07-29",
          "2017-10-28",
          "2018-01-27",
          "2018-04-28",
          "2018-07-28",
          "2018-07-28",
          "2018-07-28",
          "2018-07-28",
          "2018-07-28",
          "2018-07-29",
          "2018-07-29",
          "2018-07-29",
          "2018-07-29",
          "2018-10-27",
          "2019-01-26",
          "2019-04-27",
          "2019-07-27",
          "2019-07-27",
          "2019-07-27",
          "2019-07-27",
          "2019-07-27",
          "2019-10-26",
          "2020-01-25",
          "2020-04-25",
          "2020-07-25",
          "2020-07-25",
          "2020-07-25",
          "2020-07-25",
          "2020-07-25",
          "2020-10-24",
          "2021-01-23",
          "2021-05-01",
          "2021-07-31",
          "2021-07-31",
          "2021-07-31",
          "2021-07-31",
          "2021-07-31",
          "2021-10-30",
          "2022-01-29",
          "2022-04-30",
          "2022-07-30"
         ],
         "y": [
          68128000000,
          68128000000,
          68128000000,
          68128000000,
          68128000000,
          68680000000,
          76403000000,
          79292000000,
          81130000000,
          81130000000,
          81130000000,
          81130000000,
          81130000000,
          81130000000,
          80015000000,
          81981000000,
          85350000000,
          87095000000,
          87095000000,
          87095000000,
          87095000000,
          87095000000,
          86964000000,
          89259000000,
          91154000000,
          91759000000,
          91759000000,
          91759000000,
          91759000000,
          91759000000,
          92643000000,
          96378000000,
          97084000000,
          101191000000,
          101191000000,
          101191000000,
          101191000000,
          101191000000,
          100741000000,
          98427000000,
          101856000000,
          105134000000,
          105134000000,
          105134000000,
          105134000000,
          105070000000,
          103978000000,
          104922000000,
          106212000000,
          113481000000,
          113481000000,
          113481000000,
          113481000000,
          113373000000,
          111773000000,
          112642000000,
          118654000000,
          121652000000,
          121652000000,
          121652000000,
          121652000000,
          121652000000,
          126287000000,
          126248000000,
          125950000000,
          129818000000,
          129818000000,
          129818000000,
          129818000000,
          129818000000,
          130522000000,
          131510000000,
          114008000000,
          108784000000,
          108784000000,
          108784000000,
          108784000000,
          108784000000,
          109872000000,
          109872000000,
          109872000000,
          109872000000,
          105429000000,
          102462000000,
          97287000000,
          97793000000,
          97793000000,
          97793000000,
          97793000000,
          97793000000,
          92492000000,
          90426000000,
          91394000000,
          94853000000,
          94853000000,
          94853000000,
          94853000000,
          94853000000,
          95003000000,
          95601000000,
          93896000000,
          97497000000,
          97497000000,
          97497000000,
          97497000000,
          97497000000,
          95981000000,
          94262000000,
          92797000000,
          94002000000
         ]
        },
        {
         "mode": "lines+markers",
         "name": "Microsoft",
         "type": "scatter",
         "x": [
          "2009-06-30",
          "2009-06-30",
          "2009-06-30",
          "2009-06-30",
          "2009-09-30",
          "2009-12-31",
          "2010-03-31",
          "2010-06-30",
          "2010-06-30",
          "2010-06-30",
          "2010-06-30",
          "2010-06-30",
          "2010-09-30",
          "2010-12-31",
          "2011-03-31",
          "2011-06-30",
          "2011-06-30",
          "2011-06-30",
          "2011-06-30",
          "2011-06-30",
          "2011-09-30",
          "2011-12-31",
          "2012-03-31",
          "2012-06-30",
          "2012-06-30",
          "2012-06-30",
          "2012-06-30",
          "2012-06-30",
          "2012-06-30",
          "2012-09-30",
          "2012-12-31",
          "2013-03-31",
          "2013-06-30",
          "2013-06-30",
          "2013-06-30",
          "2013-06-30",
          "2013-06-30",
          "2013-06-30",
          "2013-09-30",
          "2013-12-31",
          "2014-03-31",
          "2014-06-30",
          "2014-06-30",
          "2014-06-30",
          "2014-06-30",
          "2014-06-30",
          "2014-06-30",
          "2014-09-30",
          "2014-12-31",
          "2015-03-31",
          "2015-06-30",
          "2015-06-30",
          "2015-06-30",
          "2015-06-30",
          "2015-06-30",
          "2015-06-30",
          "2015-09-30",
          "2015-12-31",
          "2016-03-31",
          "2016-06-30",
          "2016-06-30",
          "2016-06-30",
          "2016-06-30",
          "2016-06-30",
          "2016-09-30",
          "2016-12-31",
          "2017-03-31",
          "2017-06-30",
          "2017-06-30",
          "2017-06-30",
          "2017-06-30",
          "2017-06-30",
          "2017-09-30",
          "2017-12-31",
          "2018-03-31",
          "2018-06-30",
          "2018-06-30",
          "2018-06-30",
          "2018-06-30",
          "2018-06-30",
          "2018-09-30",
          "2018-12-31",
          "2019-03-31",
          "2019-06-30",
          "2019-06-30",
          "2019-06-30",
          "2019-06-30",
          "2019-06-30",
          "2019-09-30",
          "2019-12-31",
          "2020-03-31",
          "2020-06-30",
          "2020-06-30",
          "2020-06-30",
          "2020-06-30",
          "2020-06-30",
          "2020-09-30",
          "2020-12-31",
          "2021-03-31",
          "2021-06-30",
          "2021-06-30",
          "2021-06-30",
          "2021-06-30",
          "2021-06-30",
          "2021-09-30",
          "2021-12-31",
          "2022-03-31",
          "2022-06-30",
          "2022-06-30",
          "2022-09-30"
         ],
         "y": [
          77888000000,
          77888000000,
          77888000000,
          77888000000,
          81612000000,
          82096000000,
          84910000000,
          86113000000,
          86113000000,
          86113000000,
          86113000000,
          86113000000,
          91540000000,
          92306000000,
          99727000000,
          108704000000,
          108704000000,
          108704000000,
          108704000000,
          108704000000,
          107415000000,
          112243000000,
          118010000000,
          121271000000,
          121271000000,
          121271000000,
          121271000000,
          121271000000,
          121271000000,
          121876000000,
          128683000000,
          134105000000,
          142431000000,
          142431000000,
          142431000000,
          142431000000,
          142431000000,
          142431000000,
          142348000000,
          153543000000,
          156119000000,
          172384000000,
          172384000000,
          172384000000,
          172384000000,
          172384000000,
          172384000000,
          169656000000,
          174848000000,
          176683000000,
          174472000000,
          176223000000,
          176223000000,
          176223000000,
          176223000000,
          176223000000,
          172896000000,
          180098000000,
          181869000000,
          193694000000,
          193468000000,
          193468000000,
          193468000000,
          193468000000,
          212524000000,
          224610000000,
          225017000000,
          241086000000,
          250312000000,
          250312000000,
          250312000000,
          250312000000,
          249097000000,
          256003000000,
          245497000000,
          258848000000,
          258848000000,
          258848000000,
          258848000000,
          258848000000,
          257619000000,
          258859000000,
          263281000000,
          286556000000,
          286556000000,
          286556000000,
          286556000000,
          286556000000,
          278955000000,
          282794000000,
          285449000000,
          301311000000,
          301311000000,
          301311000000,
          301311000000,
          301311000000,
          301001000000,
          304137000000,
          308879000000,
          333779000000,
          333779000000,
          333779000000,
          333779000000,
          333779000000,
          335418000000,
          340389000000,
          344607000000,
          364840000000,
          364840000000,
          359784000000
         ]
        },
        {
         "mode": "lines+markers",
         "name": "Apple",
         "type": "scatter",
         "x": [
          "2008-09-27",
          "2008-09-27",
          "2008-09-27",
          "2008-09-27",
          "2009-06-27",
          "2009-09-26",
          "2009-09-26",
          "2009-09-26",
          "2009-09-26",
          "2009-09-26",
          "2009-09-26",
          "2009-09-26",
          "2009-12-26",
          "2010-03-27",
          "2010-06-26",
          "2010-09-25",
          "2010-09-25",
          "2010-09-25",
          "2010-09-25",
          "2010-09-25",
          "2010-12-25",
          "2011-03-26",
          "2011-06-25",
          "2011-09-24",
          "2011-09-24",
          "2011-09-24",
          "2011-09-24",
          "2011-09-24",
          "2011-09-24",
          "2011-12-31",
          "2012-03-31",
          "2012-06-30",
          "2012-09-29",
          "2012-09-29",
          "2012-09-29",
          "2012-09-29",
          "2012-09-29",
          "2012-09-29",
          "2012-12-29",
          "2013-03-30",
          "2013-06-29",
          "2013-09-28",
          "2013-09-28",
          "2013-09-28",
          "2013-09-28",
          "2013-09-28",
          "2013-09-28",
          "2013-12-28",
          "2014-03-29",
          "2014-06-28",
          "2014-09-27",
          "2014-09-27",
          "2014-09-27",
          "2014-09-27",
          "2014-09-27",
          "2014-09-27",
          "2014-12-27",
          "2015-03-28",
          "2015-06-27",
          "2015-09-26",
          "2015-09-26",
          "2015-09-26",
          "2015-09-26",
          "2015-09-26",
          "2015-12-26",
          "2016-03-26",
          "2016-06-25",
          "2016-09-24",
          "2016-09-24",
          "2016-09-24",
          "2016-09-24",
          "2016-09-24",
          "2016-12-31",
          "2017-04-01",
          "2017-07-01",
          "2017-09-30",
          "2017-09-30",
          "2017-09-30",
          "2017-09-30",
          "2017-09-30",
          "2017-12-30",
          "2018-03-31",
          "2018-06-30",
          "2018-09-29",
          "2018-09-29",
          "2018-09-29",
          "2018-09-29",
          "2018-09-29",
          "2018-12-29",
          "2019-03-30",
          "2019-06-29",
          "2019-09-28",
          "2019-09-28",
          "2019-09-28",
          "2019-09-28",
          "2019-09-28",
          "2019-12-28",
          "2020-03-28",
          "2020-06-27",
          "2020-09-26",
          "2020-09-26",
          "2020-09-26",
          "2020-09-26",
          "2020-09-26",
          "2020-12-26",
          "2021-03-27",
          "2021-06-26",
          "2021-09-25",
          "2021-09-25",
          "2021-09-25",
          "2021-09-25",
          "2021-09-25",
          "2021-12-25",
          "2022-03-26",
          "2022-06-25",
          "2022-09-24"
         ],
         "y": [
          39572000000,
          39572000000,
          36171000000,
          36171000000,
          48140000000,
          53851000000,
          47501000000,
          47501000000,
          47501000000,
          47501000000,
          47501000000,
          47501000000,
          53926000000,
          57057000000,
          64725000000,
          75183000000,
          75183000000,
          75183000000,
          75183000000,
          75183000000,
          86742000000,
          94904000000,
          106758000000,
          116371000000,
          116371000000,
          116371000000,
          116371000000,
          116371000000,
          116371000000,
          138681000000,
          150934000000,
          162896000000,
          176064000000,
          176064000000,
          176064000000,
          176064000000,
          176064000000,
          176064000000,
          196088000000,
          194743000000,
          199856000000,
          207000000000,
          207000000000,
          207000000000,
          207000000000,
          207000000000,
          207000000000,
          225184000000,
          205989000000,
          222520000000,
          231839000000,
          231839000000,
          231839000000,
          231839000000,
          231839000000,
          231839000000,
          261894000000,
          261194000000,
          273151000000,
          290479000000,
          290479000000,
          290479000000,
          290479000000,
          290345000000,
          293284000000,
          305277000000,
          305602000000,
          321686000000,
          321686000000,
          321686000000,
          321686000000,
          321686000000,
          331141000000,
          334532000000,
          345173000000,
          375319000000,
          375319000000,
          375319000000,
          375319000000,
          375319000000,
          406794000000,
          367502000000,
          349197000000,
          365725000000,
          365725000000,
          365725000000,
          365725000000,
          365725000000,
          373719000000,
          341998000000,
          322239000000,
          338516000000,
          338516000000,
          338516000000,
          338516000000,
          338516000000,
          340618000000,
          320400000000,
          317344000000,
          323888000000,
          323888000000,
          323888000000,
          323888000000,
          323888000000,
          354054000000,
          337158000000,
          329840000000,
          351002000000,
          351002000000,
          351002000000,
          351002000000,
          351002000000,
          381191000000,
          350662000000,
          336309000000,
          352755000000
         ]
        },
        {
         "mode": "lines+markers",
         "name": "IBM",
         "type": "scatter",
         "x": [
          "2008-12-31",
          "2008-12-31",
          "2008-12-31",
          "2008-12-31",
          "2009-06-30",
          "2009-09-30",
          "2009-12-31",
          "2009-12-31",
          "2009-12-31",
          "2009-12-31",
          "2009-12-31",
          "2009-12-31",
          "2010-03-31",
          "2010-06-30",
          "2010-09-30",
          "2010-12-31",
          "2010-12-31",
          "2010-12-31",
          "2010-12-31",
          "2010-12-31",
          "2010-12-31",
          "2011-03-31",
          "2011-06-30",
          "2011-09-30",
          "2011-12-31",
          "2011-12-31",
          "2011-12-31",
          "2011-12-31",
          "2011-12-31",
          "2011-12-31",
          "2012-03-31",
          "2012-06-30",
          "2012-09-30",
          "2012-12-31",
          "2012-12-31",
          "2012-12-31",
          "2012-12-31",
          "2012-12-31",
          "2012-12-31",
          "2013-03-31",
          "2013-06-30",
          "2013-09-30",
          "2013-12-31",
          "2013-12-31",
          "2013-12-31",
          "2013-12-31",
          "2013-12-31",
          "2013-12-31",
          "2013-12-31",
          "2014-03-31",
          "2014-06-30",
          "2014-09-30",
          "2014-12-31",
          "2014-12-31",
          "2014-12-31",
          "2014-12-31",
          "2014-12-31",
          "2014-12-31",
          "2014-12-31",
          "2015-03-31",
          "2015-06-30",
          "2015-09-30",
          "2015-12-31",
          "2015-12-31",
          "2015-12-31",
          "2015-12-31",
          "2015-12-31",
          "2015-12-31",
          "2015-12-31",
          "2016-03-31",
          "2016-06-30",
          "2016-09-30",
          "2016-12-31",
          "2016-12-31",
          "2016-12-31",
          "2016-12-31",
          "2016-12-31",
          "2016-12-31",
          "2017-03-31",
          "2017-06-30",
          "2017-09-30",
          "2017-12-31",
          "2017-12-31",
          "2017-12-31",
          "2017-12-31",
          "2017-12-31",
          "2017-12-31",
          "2018-03-31",
          "2018-06-30",
          "2018-09-30",
          "2018-12-31",
          "2018-12-31",
          "2018-12-31",
          "2018-12-31",
          "2018-12-31",
          "2018-12-31",
          "2019-03-31",
          "2019-06-30",
          "2019-09-30",
          "2019-12-31",
          "2019-12-31",
          "2019-12-31",
          "2019-12-31",
          "2019-12-31",
          "2019-12-31",
          "2020-03-31",
          "2020-06-30",
          "2020-09-30",
          "2020-12-31",
          "2020-12-31",
          "2020-12-31",
          "2020-12-31",
          "2020-12-31",
          "2021-03-31",
          "2021-06-30",
          "2021-09-30",
          "2021-12-31",
          "2021-12-31",
          "2021-12-31",
          "2021-12-31",
          "2022-03-31",
          "2022-06-30",
          "2022-09-30"
         ],
         "y": [
          109524000000,
          109524000000,
          109524000000,
          109524000000,
          103655000000,
          103675000000,
          109022000000,
          109022000000,
          109022000000,
          109022000000,
          109022000000,
          109022000000,
          105208000000,
          103420000000,
          107174000000,
          113452000000,
          113452000000,
          113452000000,
          113452000000,
          113452000000,
          113452000000,
          112960000000,
          113474000000,
          110158000000,
          116433000000,
          116433000000,
          116433000000,
          116433000000,
          116433000000,
          116433000000,
          115347000000,
          113832000000,
          115778000000,
          119213000000,
          119213000000,
          119213000000,
          119213000000,
          119213000000,
          119213000000,
          117258000000,
          115153000000,
          117845000000,
          125641000000,
          125641000000,
          126223000000,
          126223000000,
          126223000000,
          126223000000,
          126223000000,
          122646000000,
          124314000000,
          118911000000,
          117532000000,
          117532000000,
          117532000000,
          117532000000,
          117271000000,
          117271000000,
          117271000000,
          112037000000,
          112729000000,
          108649000000,
          110495000000,
          110495000000,
          110495000000,
          110495000000,
          110495000000,
          110495000000,
          110495000000,
          118856000000,
          118056000000,
          115606000000,
          117470000000,
          117470000000,
          117470000000,
          117470000000,
          117470000000,
          117470000000,
          117495000000,
          120495000000,
          121636000000,
          125356000000,
          125356000000,
          125356000000,
          125356000000,
          125356000000,
          125356000000,
          125285000000,
          121622000000,
          121990000000,
          123382000000,
          123382000000,
          123382000000,
          123382000000,
          123382000000,
          123382000000,
          130926000000,
          154652000000,
          149620000000,
          152186000000,
          152186000000,
          152186000000,
          152186000000,
          152186000000,
          152186000000,
          153403000000,
          154200000000,
          154128000000,
          155971000000,
          155971000000,
          155971000000,
          155971000000,
          155971000000,
          148629000000,
          146814000000,
          144214000000,
          132001000000,
          132001000000,
          132001000000,
          132001000000,
          133275000000,
          127503000000,
          125850000000
         ]
        }
       ],
       "layout": {
        "annotations": [
         {
          "showarrow": false,
          "text": "Data Source: SEC-EDGAR",
          "x": 0.5,
          "xref": "paper",
          "y": -0.15,
          "yref": "paper"
         }
        ],
        "height": 700,
        "hovermode": "closest",
        "paper_bgcolor": "white",
        "plot_bgcolor": "#fafafa",
        "showlegend": true,
        "template": {
         "data": {
          "bar": [
           {
            "error_x": {
             "color": "#2a3f5f"
            },
            "error_y": {
             "color": "#2a3f5f"
            },
            "marker": {
             "line": {
              "color": "#E5ECF6",
              "width": 0.5
             },
             "pattern": {
              "fillmode": "overlay",
              "size": 10,
              "solidity": 0.2
             }
            },
            "type": "bar"
           }
          ],
          "barpolar": [
           {
            "marker": {
             "line": {
              "color": "#E5ECF6",
              "width": 0.5
             },
             "pattern": {
              "fillmode": "overlay",
              "size": 10,
              "solidity": 0.2
             }
            },
            "type": "barpolar"
           }
          ],
          "carpet": [
           {
            "aaxis": {
             "endlinecolor": "#2a3f5f",
             "gridcolor": "white",
             "linecolor": "white",
             "minorgridcolor": "white",
             "startlinecolor": "#2a3f5f"
            },
            "baxis": {
             "endlinecolor": "#2a3f5f",
             "gridcolor": "white",
             "linecolor": "white",
             "minorgridcolor": "white",
             "startlinecolor": "#2a3f5f"
            },
            "type": "carpet"
           }
          ],
          "choropleth": [
           {
            "colorbar": {
             "outlinewidth": 0,
             "ticks": ""
            },
            "type": "choropleth"
           }
          ],
          "contour": [
           {
            "colorbar": {
             "outlinewidth": 0,
             "ticks": ""
            },
            "colorscale": [
             [
              0,
              "#0d0887"
             ],
             [
              0.1111111111111111,
              "#46039f"
             ],
             [
              0.2222222222222222,
              "#7201a8"
             ],
             [
              0.3333333333333333,
              "#9c179e"
             ],
             [
              0.4444444444444444,
              "#bd3786"
             ],
             [
              0.5555555555555556,
              "#d8576b"
             ],
             [
              0.6666666666666666,
              "#ed7953"
             ],
             [
              0.7777777777777778,
              "#fb9f3a"
             ],
             [
              0.8888888888888888,
              "#fdca26"
             ],
             [
              1,
              "#f0f921"
             ]
            ],
            "type": "contour"
           }
          ],
          "contourcarpet": [
           {
            "colorbar": {
             "outlinewidth": 0,
             "ticks": ""
            },
            "type": "contourcarpet"
           }
          ],
          "heatmap": [
           {
            "colorbar": {
             "outlinewidth": 0,
             "ticks": ""
            },
            "colorscale": [
             [
              0,
              "#0d0887"
             ],
             [
              0.1111111111111111,
              "#46039f"
             ],
             [
              0.2222222222222222,
              "#7201a8"
             ],
             [
              0.3333333333333333,
              "#9c179e"
             ],
             [
              0.4444444444444444,
              "#bd3786"
             ],
             [
              0.5555555555555556,
              "#d8576b"
             ],
             [
              0.6666666666666666,
              "#ed7953"
             ],
             [
              0.7777777777777778,
              "#fb9f3a"
             ],
             [
              0.8888888888888888,
              "#fdca26"
             ],
             [
              1,
              "#f0f921"
             ]
            ],
            "type": "heatmap"
           }
          ],
          "heatmapgl": [
           {
            "colorbar": {
             "outlinewidth": 0,
             "ticks": ""
            },
            "colorscale": [
             [
              0,
              "#0d0887"
             ],
             [
              0.1111111111111111,
              "#46039f"
             ],
             [
              0.2222222222222222,
              "#7201a8"
             ],
             [
              0.3333333333333333,
              "#9c179e"
             ],
             [
              0.4444444444444444,
              "#bd3786"
             ],
             [
              0.5555555555555556,
              "#d8576b"
             ],
             [
              0.6666666666666666,
              "#ed7953"
             ],
             [
              0.7777777777777778,
              "#fb9f3a"
             ],
             [
              0.8888888888888888,
              "#fdca26"
             ],
             [
              1,
              "#f0f921"
             ]
            ],
            "type": "heatmapgl"
           }
          ],
          "histogram": [
           {
            "marker": {
             "pattern": {
              "fillmode": "overlay",
              "size": 10,
              "solidity": 0.2
             }
            },
            "type": "histogram"
           }
          ],
          "histogram2d": [
           {
            "colorbar": {
             "outlinewidth": 0,
             "ticks": ""
            },
            "colorscale": [
             [
              0,
              "#0d0887"
             ],
             [
              0.1111111111111111,
              "#46039f"
             ],
             [
              0.2222222222222222,
              "#7201a8"
             ],
             [
              0.3333333333333333,
              "#9c179e"
             ],
             [
              0.4444444444444444,
              "#bd3786"
             ],
             [
              0.5555555555555556,
              "#d8576b"
             ],
             [
              0.6666666666666666,
              "#ed7953"
             ],
             [
              0.7777777777777778,
              "#fb9f3a"
             ],
             [
              0.8888888888888888,
              "#fdca26"
             ],
             [
              1,
              "#f0f921"
             ]
            ],
            "type": "histogram2d"
           }
          ],
          "histogram2dcontour": [
           {
            "colorbar": {
             "outlinewidth": 0,
             "ticks": ""
            },
            "colorscale": [
             [
              0,
              "#0d0887"
             ],
             [
              0.1111111111111111,
              "#46039f"
             ],
             [
              0.2222222222222222,
              "#7201a8"
             ],
             [
              0.3333333333333333,
              "#9c179e"
             ],
             [
              0.4444444444444444,
              "#bd3786"
             ],
             [
              0.5555555555555556,
              "#d8576b"
             ],
             [
              0.6666666666666666,
              "#ed7953"
             ],
             [
              0.7777777777777778,
              "#fb9f3a"
             ],
             [
              0.8888888888888888,
              "#fdca26"
             ],
             [
              1,
              "#f0f921"
             ]
            ],
            "type": "histogram2dcontour"
           }
          ],
          "mesh3d": [
           {
            "colorbar": {
             "outlinewidth": 0,
             "ticks": ""
            },
            "type": "mesh3d"
           }
          ],
          "parcoords": [
           {
            "line": {
             "colorbar": {
              "outlinewidth": 0,
              "ticks": ""
             }
            },
            "type": "parcoords"
           }
          ],
          "pie": [
           {
            "automargin": true,
            "type": "pie"
           }
          ],
          "scatter": [
           {
            "fillpattern": {
             "fillmode": "overlay",
             "size": 10,
             "solidity": 0.2
            },
            "type": "scatter"
           }
          ],
          "scatter3d": [
           {
            "line": {
             "colorbar": {
              "outlinewidth": 0,
              "ticks": ""
             }
            },
            "marker": {
             "colorbar": {
              "outlinewidth": 0,
              "ticks": ""
             }
            },
            "type": "scatter3d"
           }
          ],
          "scattercarpet": [
           {
            "marker": {
             "colorbar": {
              "outlinewidth": 0,
              "ticks": ""
             }
            },
            "type": "scattercarpet"
           }
          ],
          "scattergeo": [
           {
            "marker": {
             "colorbar": {
              "outlinewidth": 0,
              "ticks": ""
             }
            },
            "type": "scattergeo"
           }
          ],
          "scattergl": [
           {
            "marker": {
             "colorbar": {
              "outlinewidth": 0,
              "ticks": ""
             }
            },
            "type": "scattergl"
           }
          ],
          "scattermapbox": [
           {
            "marker": {
             "colorbar": {
              "outlinewidth": 0,
              "ticks": ""
             }
            },
            "type": "scattermapbox"
           }
          ],
          "scatterpolar": [
           {
            "marker": {
             "colorbar": {
              "outlinewidth": 0,
              "ticks": ""
             }
            },
            "type": "scatterpolar"
           }
          ],
          "scatterpolargl": [
           {
            "marker": {
             "colorbar": {
              "outlinewidth": 0,
              "ticks": ""
             }
            },
            "type": "scatterpolargl"
           }
          ],
          "scatterternary": [
           {
            "marker": {
             "colorbar": {
              "outlinewidth": 0,
              "ticks": ""
             }
            },
            "type": "scatterternary"
           }
          ],
          "surface": [
           {
            "colorbar": {
             "outlinewidth": 0,
             "ticks": ""
            },
            "colorscale": [
             [
              0,
              "#0d0887"
             ],
             [
              0.1111111111111111,
              "#46039f"
             ],
             [
              0.2222222222222222,
              "#7201a8"
             ],
             [
              0.3333333333333333,
              "#9c179e"
             ],
             [
              0.4444444444444444,
              "#bd3786"
             ],
             [
              0.5555555555555556,
              "#d8576b"
             ],
             [
              0.6666666666666666,
              "#ed7953"
             ],
             [
              0.7777777777777778,
              "#fb9f3a"
             ],
             [
              0.8888888888888888,
              "#fdca26"
             ],
             [
              1,
              "#f0f921"
             ]
            ],
            "type": "surface"
           }
          ],
          "table": [
           {
            "cells": {
             "fill": {
              "color": "#EBF0F8"
             },
             "line": {
              "color": "white"
             }
            },
            "header": {
             "fill": {
              "color": "#C8D4E3"
             },
             "line": {
              "color": "white"
             }
            },
            "type": "table"
           }
          ]
         },
         "layout": {
          "annotationdefaults": {
           "arrowcolor": "#2a3f5f",
           "arrowhead": 0,
           "arrowwidth": 1
          },
          "autotypenumbers": "strict",
          "coloraxis": {
           "colorbar": {
            "outlinewidth": 0,
            "ticks": ""
           }
          },
          "colorscale": {
           "diverging": [
            [
             0,
             "#8e0152"
            ],
            [
             0.1,
             "#c51b7d"
            ],
            [
             0.2,
             "#de77ae"
            ],
            [
             0.3,
             "#f1b6da"
            ],
            [
             0.4,
             "#fde0ef"
            ],
            [
             0.5,
             "#f7f7f7"
            ],
            [
             0.6,
             "#e6f5d0"
            ],
            [
             0.7,
             "#b8e186"
            ],
            [
             0.8,
             "#7fbc41"
            ],
            [
             0.9,
             "#4d9221"
            ],
            [
             1,
             "#276419"
            ]
           ],
           "sequential": [
            [
             0,
             "#0d0887"
            ],
            [
             0.1111111111111111,
             "#46039f"
            ],
            [
             0.2222222222222222,
             "#7201a8"
            ],
            [
             0.3333333333333333,
             "#9c179e"
            ],
            [
             0.4444444444444444,
             "#bd3786"
            ],
            [
             0.5555555555555556,
             "#d8576b"
            ],
            [
             0.6666666666666666,
             "#ed7953"
            ],
            [
             0.7777777777777778,
             "#fb9f3a"
            ],
            [
             0.8888888888888888,
             "#fdca26"
            ],
            [
             1,
             "#f0f921"
            ]
           ],
           "sequentialminus": [
            [
             0,
             "#0d0887"
            ],
            [
             0.1111111111111111,
             "#46039f"
            ],
            [
             0.2222222222222222,
             "#7201a8"
            ],
            [
             0.3333333333333333,
             "#9c179e"
            ],
            [
             0.4444444444444444,
             "#bd3786"
            ],
            [
             0.5555555555555556,
             "#d8576b"
            ],
            [
             0.6666666666666666,
             "#ed7953"
            ],
            [
             0.7777777777777778,
             "#fb9f3a"
            ],
            [
             0.8888888888888888,
             "#fdca26"
            ],
            [
             1,
             "#f0f921"
            ]
           ]
          },
          "colorway": [
           "#636efa",
           "#EF553B",
           "#00cc96",
           "#ab63fa",
           "#FFA15A",
           "#19d3f3",
           "#FF6692",
           "#B6E880",
           "#FF97FF",
           "#FECB52"
          ],
          "font": {
           "color": "#2a3f5f"
          },
          "geo": {
           "bgcolor": "white",
           "lakecolor": "white",
           "landcolor": "#E5ECF6",
           "showlakes": true,
           "showland": true,
           "subunitcolor": "white"
          },
          "hoverlabel": {
           "align": "left"
          },
          "hovermode": "closest",
          "mapbox": {
           "style": "light"
          },
          "paper_bgcolor": "white",
          "plot_bgcolor": "#E5ECF6",
          "polar": {
           "angularaxis": {
            "gridcolor": "white",
            "linecolor": "white",
            "ticks": ""
           },
           "bgcolor": "#E5ECF6",
           "radialaxis": {
            "gridcolor": "white",
            "linecolor": "white",
            "ticks": ""
           }
          },
          "scene": {
           "xaxis": {
            "backgroundcolor": "#E5ECF6",
            "gridcolor": "white",
            "gridwidth": 2,
            "linecolor": "white",
            "showbackground": true,
            "ticks": "",
            "zerolinecolor": "white"
           },
           "yaxis": {
            "backgroundcolor": "#E5ECF6",
            "gridcolor": "white",
            "gridwidth": 2,
            "linecolor": "white",
            "showbackground": true,
            "ticks": "",
            "zerolinecolor": "white"
           },
           "zaxis": {
            "backgroundcolor": "#E5ECF6",
            "gridcolor": "white",
            "gridwidth": 2,
            "linecolor": "white",
            "showbackground": true,
            "ticks": "",
            "zerolinecolor": "white"
           }
          },
          "shapedefaults": {
           "line": {
            "color": "#2a3f5f"
           }
          },
          "ternary": {
           "aaxis": {
            "gridcolor": "white",
            "linecolor": "white",
            "ticks": ""
           },
           "baxis": {
            "gridcolor": "white",
            "linecolor": "white",
            "ticks": ""
           },
           "bgcolor": "#E5ECF6",
           "caxis": {
            "gridcolor": "white",
            "linecolor": "white",
            "ticks": ""
           }
          },
          "title": {
           "x": 0.05
          },
          "xaxis": {
           "automargin": true,
           "gridcolor": "white",
           "linecolor": "white",
           "ticks": "",
           "title": {
            "standoff": 15
           },
           "zerolinecolor": "white",
           "zerolinewidth": 2
          },
          "yaxis": {
           "automargin": true,
           "gridcolor": "white",
           "linecolor": "white",
           "ticks": "",
           "title": {
            "standoff": 15
           },
           "zerolinecolor": "white",
           "zerolinewidth": 2
          }
         }
        },
        "title": {
         "text": "<b> Total Assets Comparison over Time </b>",
         "x": 0.5
        },
        "width": 1000,
        "xaxis": {
         "title": {
          "text": "Time"
         }
        },
        "yaxis": {
         "title": {
          "text": "Total Assets value (USD)"
         }
        }
       }
      },
      "text/html": [
       "<div>                            <div id=\"a7e6275e-f1db-40f9-a68d-87e417588609\" class=\"plotly-graph-div\" style=\"height:700px; width:1000px;\"></div>            <script type=\"text/javascript\">                require([\"plotly\"], function(Plotly) {                    window.PLOTLYENV=window.PLOTLYENV || {};                                    if (document.getElementById(\"a7e6275e-f1db-40f9-a68d-87e417588609\")) {                    Plotly.newPlot(                        \"a7e6275e-f1db-40f9-a68d-87e417588609\",                        [{\"mode\":\"lines+markers\",\"name\":\"Cisco\",\"x\":[\"2009-07-25\",\"2009-07-25\",\"2009-07-25\",\"2009-07-25\",\"2009-07-25\",\"2009-10-24\",\"2010-01-23\",\"2010-05-01\",\"2010-07-31\",\"2010-07-31\",\"2010-07-31\",\"2010-07-31\",\"2010-07-31\",\"2010-07-31\",\"2010-10-30\",\"2011-01-29\",\"2011-04-30\",\"2011-07-30\",\"2011-07-30\",\"2011-07-30\",\"2011-07-30\",\"2011-07-30\",\"2011-10-29\",\"2012-01-28\",\"2012-04-28\",\"2012-07-28\",\"2012-07-28\",\"2012-07-28\",\"2012-07-28\",\"2012-07-28\",\"2012-10-27\",\"2013-01-26\",\"2013-04-27\",\"2013-07-27\",\"2013-07-27\",\"2013-07-27\",\"2013-07-27\",\"2013-07-27\",\"2013-10-26\",\"2014-01-25\",\"2014-04-26\",\"2014-07-26\",\"2014-07-26\",\"2014-07-26\",\"2014-07-26\",\"2014-07-26\",\"2014-10-25\",\"2015-01-24\",\"2015-04-25\",\"2015-07-25\",\"2015-07-25\",\"2015-07-25\",\"2015-07-25\",\"2015-07-25\",\"2015-10-24\",\"2016-01-23\",\"2016-04-30\",\"2016-07-30\",\"2016-07-30\",\"2016-07-30\",\"2016-07-30\",\"2016-07-30\",\"2016-10-29\",\"2017-01-28\",\"2017-04-29\",\"2017-07-29\",\"2017-07-29\",\"2017-07-29\",\"2017-07-29\",\"2017-07-29\",\"2017-10-28\",\"2018-01-27\",\"2018-04-28\",\"2018-07-28\",\"2018-07-28\",\"2018-07-28\",\"2018-07-28\",\"2018-07-28\",\"2018-07-29\",\"2018-07-29\",\"2018-07-29\",\"2018-07-29\",\"2018-10-27\",\"2019-01-26\",\"2019-04-27\",\"2019-07-27\",\"2019-07-27\",\"2019-07-27\",\"2019-07-27\",\"2019-07-27\",\"2019-10-26\",\"2020-01-25\",\"2020-04-25\",\"2020-07-25\",\"2020-07-25\",\"2020-07-25\",\"2020-07-25\",\"2020-07-25\",\"2020-10-24\",\"2021-01-23\",\"2021-05-01\",\"2021-07-31\",\"2021-07-31\",\"2021-07-31\",\"2021-07-31\",\"2021-07-31\",\"2021-10-30\",\"2022-01-29\",\"2022-04-30\",\"2022-07-30\"],\"y\":[68128000000,68128000000,68128000000,68128000000,68128000000,68680000000,76403000000,79292000000,81130000000,81130000000,81130000000,81130000000,81130000000,81130000000,80015000000,81981000000,85350000000,87095000000,87095000000,87095000000,87095000000,87095000000,86964000000,89259000000,91154000000,91759000000,91759000000,91759000000,91759000000,91759000000,92643000000,96378000000,97084000000,101191000000,101191000000,101191000000,101191000000,101191000000,100741000000,98427000000,101856000000,105134000000,105134000000,105134000000,105134000000,105070000000,103978000000,104922000000,106212000000,113481000000,113481000000,113481000000,113481000000,113373000000,111773000000,112642000000,118654000000,121652000000,121652000000,121652000000,121652000000,121652000000,126287000000,126248000000,125950000000,129818000000,129818000000,129818000000,129818000000,129818000000,130522000000,131510000000,114008000000,108784000000,108784000000,108784000000,108784000000,108784000000,109872000000,109872000000,109872000000,109872000000,105429000000,102462000000,97287000000,97793000000,97793000000,97793000000,97793000000,97793000000,92492000000,90426000000,91394000000,94853000000,94853000000,94853000000,94853000000,94853000000,95003000000,95601000000,93896000000,97497000000,97497000000,97497000000,97497000000,97497000000,95981000000,94262000000,92797000000,94002000000],\"type\":\"scatter\"},{\"mode\":\"lines+markers\",\"name\":\"Microsoft\",\"x\":[\"2009-06-30\",\"2009-06-30\",\"2009-06-30\",\"2009-06-30\",\"2009-09-30\",\"2009-12-31\",\"2010-03-31\",\"2010-06-30\",\"2010-06-30\",\"2010-06-30\",\"2010-06-30\",\"2010-06-30\",\"2010-09-30\",\"2010-12-31\",\"2011-03-31\",\"2011-06-30\",\"2011-06-30\",\"2011-06-30\",\"2011-06-30\",\"2011-06-30\",\"2011-09-30\",\"2011-12-31\",\"2012-03-31\",\"2012-06-30\",\"2012-06-30\",\"2012-06-30\",\"2012-06-30\",\"2012-06-30\",\"2012-06-30\",\"2012-09-30\",\"2012-12-31\",\"2013-03-31\",\"2013-06-30\",\"2013-06-30\",\"2013-06-30\",\"2013-06-30\",\"2013-06-30\",\"2013-06-30\",\"2013-09-30\",\"2013-12-31\",\"2014-03-31\",\"2014-06-30\",\"2014-06-30\",\"2014-06-30\",\"2014-06-30\",\"2014-06-30\",\"2014-06-30\",\"2014-09-30\",\"2014-12-31\",\"2015-03-31\",\"2015-06-30\",\"2015-06-30\",\"2015-06-30\",\"2015-06-30\",\"2015-06-30\",\"2015-06-30\",\"2015-09-30\",\"2015-12-31\",\"2016-03-31\",\"2016-06-30\",\"2016-06-30\",\"2016-06-30\",\"2016-06-30\",\"2016-06-30\",\"2016-09-30\",\"2016-12-31\",\"2017-03-31\",\"2017-06-30\",\"2017-06-30\",\"2017-06-30\",\"2017-06-30\",\"2017-06-30\",\"2017-09-30\",\"2017-12-31\",\"2018-03-31\",\"2018-06-30\",\"2018-06-30\",\"2018-06-30\",\"2018-06-30\",\"2018-06-30\",\"2018-09-30\",\"2018-12-31\",\"2019-03-31\",\"2019-06-30\",\"2019-06-30\",\"2019-06-30\",\"2019-06-30\",\"2019-06-30\",\"2019-09-30\",\"2019-12-31\",\"2020-03-31\",\"2020-06-30\",\"2020-06-30\",\"2020-06-30\",\"2020-06-30\",\"2020-06-30\",\"2020-09-30\",\"2020-12-31\",\"2021-03-31\",\"2021-06-30\",\"2021-06-30\",\"2021-06-30\",\"2021-06-30\",\"2021-06-30\",\"2021-09-30\",\"2021-12-31\",\"2022-03-31\",\"2022-06-30\",\"2022-06-30\",\"2022-09-30\"],\"y\":[77888000000,77888000000,77888000000,77888000000,81612000000,82096000000,84910000000,86113000000,86113000000,86113000000,86113000000,86113000000,91540000000,92306000000,99727000000,108704000000,108704000000,108704000000,108704000000,108704000000,107415000000,112243000000,118010000000,121271000000,121271000000,121271000000,121271000000,121271000000,121271000000,121876000000,128683000000,134105000000,142431000000,142431000000,142431000000,142431000000,142431000000,142431000000,142348000000,153543000000,156119000000,172384000000,172384000000,172384000000,172384000000,172384000000,172384000000,169656000000,174848000000,176683000000,174472000000,176223000000,176223000000,176223000000,176223000000,176223000000,172896000000,180098000000,181869000000,193694000000,193468000000,193468000000,193468000000,193468000000,212524000000,224610000000,225017000000,241086000000,250312000000,250312000000,250312000000,250312000000,249097000000,256003000000,245497000000,258848000000,258848000000,258848000000,258848000000,258848000000,257619000000,258859000000,263281000000,286556000000,286556000000,286556000000,286556000000,286556000000,278955000000,282794000000,285449000000,301311000000,301311000000,301311000000,301311000000,301311000000,301001000000,304137000000,308879000000,333779000000,333779000000,333779000000,333779000000,333779000000,335418000000,340389000000,344607000000,364840000000,364840000000,359784000000],\"type\":\"scatter\"},{\"mode\":\"lines+markers\",\"name\":\"Apple\",\"x\":[\"2008-09-27\",\"2008-09-27\",\"2008-09-27\",\"2008-09-27\",\"2009-06-27\",\"2009-09-26\",\"2009-09-26\",\"2009-09-26\",\"2009-09-26\",\"2009-09-26\",\"2009-09-26\",\"2009-09-26\",\"2009-12-26\",\"2010-03-27\",\"2010-06-26\",\"2010-09-25\",\"2010-09-25\",\"2010-09-25\",\"2010-09-25\",\"2010-09-25\",\"2010-12-25\",\"2011-03-26\",\"2011-06-25\",\"2011-09-24\",\"2011-09-24\",\"2011-09-24\",\"2011-09-24\",\"2011-09-24\",\"2011-09-24\",\"2011-12-31\",\"2012-03-31\",\"2012-06-30\",\"2012-09-29\",\"2012-09-29\",\"2012-09-29\",\"2012-09-29\",\"2012-09-29\",\"2012-09-29\",\"2012-12-29\",\"2013-03-30\",\"2013-06-29\",\"2013-09-28\",\"2013-09-28\",\"2013-09-28\",\"2013-09-28\",\"2013-09-28\",\"2013-09-28\",\"2013-12-28\",\"2014-03-29\",\"2014-06-28\",\"2014-09-27\",\"2014-09-27\",\"2014-09-27\",\"2014-09-27\",\"2014-09-27\",\"2014-09-27\",\"2014-12-27\",\"2015-03-28\",\"2015-06-27\",\"2015-09-26\",\"2015-09-26\",\"2015-09-26\",\"2015-09-26\",\"2015-09-26\",\"2015-12-26\",\"2016-03-26\",\"2016-06-25\",\"2016-09-24\",\"2016-09-24\",\"2016-09-24\",\"2016-09-24\",\"2016-09-24\",\"2016-12-31\",\"2017-04-01\",\"2017-07-01\",\"2017-09-30\",\"2017-09-30\",\"2017-09-30\",\"2017-09-30\",\"2017-09-30\",\"2017-12-30\",\"2018-03-31\",\"2018-06-30\",\"2018-09-29\",\"2018-09-29\",\"2018-09-29\",\"2018-09-29\",\"2018-09-29\",\"2018-12-29\",\"2019-03-30\",\"2019-06-29\",\"2019-09-28\",\"2019-09-28\",\"2019-09-28\",\"2019-09-28\",\"2019-09-28\",\"2019-12-28\",\"2020-03-28\",\"2020-06-27\",\"2020-09-26\",\"2020-09-26\",\"2020-09-26\",\"2020-09-26\",\"2020-09-26\",\"2020-12-26\",\"2021-03-27\",\"2021-06-26\",\"2021-09-25\",\"2021-09-25\",\"2021-09-25\",\"2021-09-25\",\"2021-09-25\",\"2021-12-25\",\"2022-03-26\",\"2022-06-25\",\"2022-09-24\"],\"y\":[39572000000,39572000000,36171000000,36171000000,48140000000,53851000000,47501000000,47501000000,47501000000,47501000000,47501000000,47501000000,53926000000,57057000000,64725000000,75183000000,75183000000,75183000000,75183000000,75183000000,86742000000,94904000000,106758000000,116371000000,116371000000,116371000000,116371000000,116371000000,116371000000,138681000000,150934000000,162896000000,176064000000,176064000000,176064000000,176064000000,176064000000,176064000000,196088000000,194743000000,199856000000,207000000000,207000000000,207000000000,207000000000,207000000000,207000000000,225184000000,205989000000,222520000000,231839000000,231839000000,231839000000,231839000000,231839000000,231839000000,261894000000,261194000000,273151000000,290479000000,290479000000,290479000000,290479000000,290345000000,293284000000,305277000000,305602000000,321686000000,321686000000,321686000000,321686000000,321686000000,331141000000,334532000000,345173000000,375319000000,375319000000,375319000000,375319000000,375319000000,406794000000,367502000000,349197000000,365725000000,365725000000,365725000000,365725000000,365725000000,373719000000,341998000000,322239000000,338516000000,338516000000,338516000000,338516000000,338516000000,340618000000,320400000000,317344000000,323888000000,323888000000,323888000000,323888000000,323888000000,354054000000,337158000000,329840000000,351002000000,351002000000,351002000000,351002000000,351002000000,381191000000,350662000000,336309000000,352755000000],\"type\":\"scatter\"},{\"mode\":\"lines+markers\",\"name\":\"IBM\",\"x\":[\"2008-12-31\",\"2008-12-31\",\"2008-12-31\",\"2008-12-31\",\"2009-06-30\",\"2009-09-30\",\"2009-12-31\",\"2009-12-31\",\"2009-12-31\",\"2009-12-31\",\"2009-12-31\",\"2009-12-31\",\"2010-03-31\",\"2010-06-30\",\"2010-09-30\",\"2010-12-31\",\"2010-12-31\",\"2010-12-31\",\"2010-12-31\",\"2010-12-31\",\"2010-12-31\",\"2011-03-31\",\"2011-06-30\",\"2011-09-30\",\"2011-12-31\",\"2011-12-31\",\"2011-12-31\",\"2011-12-31\",\"2011-12-31\",\"2011-12-31\",\"2012-03-31\",\"2012-06-30\",\"2012-09-30\",\"2012-12-31\",\"2012-12-31\",\"2012-12-31\",\"2012-12-31\",\"2012-12-31\",\"2012-12-31\",\"2013-03-31\",\"2013-06-30\",\"2013-09-30\",\"2013-12-31\",\"2013-12-31\",\"2013-12-31\",\"2013-12-31\",\"2013-12-31\",\"2013-12-31\",\"2013-12-31\",\"2014-03-31\",\"2014-06-30\",\"2014-09-30\",\"2014-12-31\",\"2014-12-31\",\"2014-12-31\",\"2014-12-31\",\"2014-12-31\",\"2014-12-31\",\"2014-12-31\",\"2015-03-31\",\"2015-06-30\",\"2015-09-30\",\"2015-12-31\",\"2015-12-31\",\"2015-12-31\",\"2015-12-31\",\"2015-12-31\",\"2015-12-31\",\"2015-12-31\",\"2016-03-31\",\"2016-06-30\",\"2016-09-30\",\"2016-12-31\",\"2016-12-31\",\"2016-12-31\",\"2016-12-31\",\"2016-12-31\",\"2016-12-31\",\"2017-03-31\",\"2017-06-30\",\"2017-09-30\",\"2017-12-31\",\"2017-12-31\",\"2017-12-31\",\"2017-12-31\",\"2017-12-31\",\"2017-12-31\",\"2018-03-31\",\"2018-06-30\",\"2018-09-30\",\"2018-12-31\",\"2018-12-31\",\"2018-12-31\",\"2018-12-31\",\"2018-12-31\",\"2018-12-31\",\"2019-03-31\",\"2019-06-30\",\"2019-09-30\",\"2019-12-31\",\"2019-12-31\",\"2019-12-31\",\"2019-12-31\",\"2019-12-31\",\"2019-12-31\",\"2020-03-31\",\"2020-06-30\",\"2020-09-30\",\"2020-12-31\",\"2020-12-31\",\"2020-12-31\",\"2020-12-31\",\"2020-12-31\",\"2021-03-31\",\"2021-06-30\",\"2021-09-30\",\"2021-12-31\",\"2021-12-31\",\"2021-12-31\",\"2021-12-31\",\"2022-03-31\",\"2022-06-30\",\"2022-09-30\"],\"y\":[109524000000,109524000000,109524000000,109524000000,103655000000,103675000000,109022000000,109022000000,109022000000,109022000000,109022000000,109022000000,105208000000,103420000000,107174000000,113452000000,113452000000,113452000000,113452000000,113452000000,113452000000,112960000000,113474000000,110158000000,116433000000,116433000000,116433000000,116433000000,116433000000,116433000000,115347000000,113832000000,115778000000,119213000000,119213000000,119213000000,119213000000,119213000000,119213000000,117258000000,115153000000,117845000000,125641000000,125641000000,126223000000,126223000000,126223000000,126223000000,126223000000,122646000000,124314000000,118911000000,117532000000,117532000000,117532000000,117532000000,117271000000,117271000000,117271000000,112037000000,112729000000,108649000000,110495000000,110495000000,110495000000,110495000000,110495000000,110495000000,110495000000,118856000000,118056000000,115606000000,117470000000,117470000000,117470000000,117470000000,117470000000,117470000000,117495000000,120495000000,121636000000,125356000000,125356000000,125356000000,125356000000,125356000000,125356000000,125285000000,121622000000,121990000000,123382000000,123382000000,123382000000,123382000000,123382000000,123382000000,130926000000,154652000000,149620000000,152186000000,152186000000,152186000000,152186000000,152186000000,152186000000,153403000000,154200000000,154128000000,155971000000,155971000000,155971000000,155971000000,155971000000,148629000000,146814000000,144214000000,132001000000,132001000000,132001000000,132001000000,133275000000,127503000000,125850000000],\"type\":\"scatter\"}],                        {\"template\":{\"data\":{\"histogram2dcontour\":[{\"type\":\"histogram2dcontour\",\"colorbar\":{\"outlinewidth\":0,\"ticks\":\"\"},\"colorscale\":[[0.0,\"#0d0887\"],[0.1111111111111111,\"#46039f\"],[0.2222222222222222,\"#7201a8\"],[0.3333333333333333,\"#9c179e\"],[0.4444444444444444,\"#bd3786\"],[0.5555555555555556,\"#d8576b\"],[0.6666666666666666,\"#ed7953\"],[0.7777777777777778,\"#fb9f3a\"],[0.8888888888888888,\"#fdca26\"],[1.0,\"#f0f921\"]]}],\"choropleth\":[{\"type\":\"choropleth\",\"colorbar\":{\"outlinewidth\":0,\"ticks\":\"\"}}],\"histogram2d\":[{\"type\":\"histogram2d\",\"colorbar\":{\"outlinewidth\":0,\"ticks\":\"\"},\"colorscale\":[[0.0,\"#0d0887\"],[0.1111111111111111,\"#46039f\"],[0.2222222222222222,\"#7201a8\"],[0.3333333333333333,\"#9c179e\"],[0.4444444444444444,\"#bd3786\"],[0.5555555555555556,\"#d8576b\"],[0.6666666666666666,\"#ed7953\"],[0.7777777777777778,\"#fb9f3a\"],[0.8888888888888888,\"#fdca26\"],[1.0,\"#f0f921\"]]}],\"heatmap\":[{\"type\":\"heatmap\",\"colorbar\":{\"outlinewidth\":0,\"ticks\":\"\"},\"colorscale\":[[0.0,\"#0d0887\"],[0.1111111111111111,\"#46039f\"],[0.2222222222222222,\"#7201a8\"],[0.3333333333333333,\"#9c179e\"],[0.4444444444444444,\"#bd3786\"],[0.5555555555555556,\"#d8576b\"],[0.6666666666666666,\"#ed7953\"],[0.7777777777777778,\"#fb9f3a\"],[0.8888888888888888,\"#fdca26\"],[1.0,\"#f0f921\"]]}],\"heatmapgl\":[{\"type\":\"heatmapgl\",\"colorbar\":{\"outlinewidth\":0,\"ticks\":\"\"},\"colorscale\":[[0.0,\"#0d0887\"],[0.1111111111111111,\"#46039f\"],[0.2222222222222222,\"#7201a8\"],[0.3333333333333333,\"#9c179e\"],[0.4444444444444444,\"#bd3786\"],[0.5555555555555556,\"#d8576b\"],[0.6666666666666666,\"#ed7953\"],[0.7777777777777778,\"#fb9f3a\"],[0.8888888888888888,\"#fdca26\"],[1.0,\"#f0f921\"]]}],\"contourcarpet\":[{\"type\":\"contourcarpet\",\"colorbar\":{\"outlinewidth\":0,\"ticks\":\"\"}}],\"contour\":[{\"type\":\"contour\",\"colorbar\":{\"outlinewidth\":0,\"ticks\":\"\"},\"colorscale\":[[0.0,\"#0d0887\"],[0.1111111111111111,\"#46039f\"],[0.2222222222222222,\"#7201a8\"],[0.3333333333333333,\"#9c179e\"],[0.4444444444444444,\"#bd3786\"],[0.5555555555555556,\"#d8576b\"],[0.6666666666666666,\"#ed7953\"],[0.7777777777777778,\"#fb9f3a\"],[0.8888888888888888,\"#fdca26\"],[1.0,\"#f0f921\"]]}],\"surface\":[{\"type\":\"surface\",\"colorbar\":{\"outlinewidth\":0,\"ticks\":\"\"},\"colorscale\":[[0.0,\"#0d0887\"],[0.1111111111111111,\"#46039f\"],[0.2222222222222222,\"#7201a8\"],[0.3333333333333333,\"#9c179e\"],[0.4444444444444444,\"#bd3786\"],[0.5555555555555556,\"#d8576b\"],[0.6666666666666666,\"#ed7953\"],[0.7777777777777778,\"#fb9f3a\"],[0.8888888888888888,\"#fdca26\"],[1.0,\"#f0f921\"]]}],\"mesh3d\":[{\"type\":\"mesh3d\",\"colorbar\":{\"outlinewidth\":0,\"ticks\":\"\"}}],\"scatter\":[{\"fillpattern\":{\"fillmode\":\"overlay\",\"size\":10,\"solidity\":0.2},\"type\":\"scatter\"}],\"parcoords\":[{\"type\":\"parcoords\",\"line\":{\"colorbar\":{\"outlinewidth\":0,\"ticks\":\"\"}}}],\"scatterpolargl\":[{\"type\":\"scatterpolargl\",\"marker\":{\"colorbar\":{\"outlinewidth\":0,\"ticks\":\"\"}}}],\"bar\":[{\"error_x\":{\"color\":\"#2a3f5f\"},\"error_y\":{\"color\":\"#2a3f5f\"},\"marker\":{\"line\":{\"color\":\"#E5ECF6\",\"width\":0.5},\"pattern\":{\"fillmode\":\"overlay\",\"size\":10,\"solidity\":0.2}},\"type\":\"bar\"}],\"scattergeo\":[{\"type\":\"scattergeo\",\"marker\":{\"colorbar\":{\"outlinewidth\":0,\"ticks\":\"\"}}}],\"scatterpolar\":[{\"type\":\"scatterpolar\",\"marker\":{\"colorbar\":{\"outlinewidth\":0,\"ticks\":\"\"}}}],\"histogram\":[{\"marker\":{\"pattern\":{\"fillmode\":\"overlay\",\"size\":10,\"solidity\":0.2}},\"type\":\"histogram\"}],\"scattergl\":[{\"type\":\"scattergl\",\"marker\":{\"colorbar\":{\"outlinewidth\":0,\"ticks\":\"\"}}}],\"scatter3d\":[{\"type\":\"scatter3d\",\"line\":{\"colorbar\":{\"outlinewidth\":0,\"ticks\":\"\"}},\"marker\":{\"colorbar\":{\"outlinewidth\":0,\"ticks\":\"\"}}}],\"scattermapbox\":[{\"type\":\"scattermapbox\",\"marker\":{\"colorbar\":{\"outlinewidth\":0,\"ticks\":\"\"}}}],\"scatterternary\":[{\"type\":\"scatterternary\",\"marker\":{\"colorbar\":{\"outlinewidth\":0,\"ticks\":\"\"}}}],\"scattercarpet\":[{\"type\":\"scattercarpet\",\"marker\":{\"colorbar\":{\"outlinewidth\":0,\"ticks\":\"\"}}}],\"carpet\":[{\"aaxis\":{\"endlinecolor\":\"#2a3f5f\",\"gridcolor\":\"white\",\"linecolor\":\"white\",\"minorgridcolor\":\"white\",\"startlinecolor\":\"#2a3f5f\"},\"baxis\":{\"endlinecolor\":\"#2a3f5f\",\"gridcolor\":\"white\",\"linecolor\":\"white\",\"minorgridcolor\":\"white\",\"startlinecolor\":\"#2a3f5f\"},\"type\":\"carpet\"}],\"table\":[{\"cells\":{\"fill\":{\"color\":\"#EBF0F8\"},\"line\":{\"color\":\"white\"}},\"header\":{\"fill\":{\"color\":\"#C8D4E3\"},\"line\":{\"color\":\"white\"}},\"type\":\"table\"}],\"barpolar\":[{\"marker\":{\"line\":{\"color\":\"#E5ECF6\",\"width\":0.5},\"pattern\":{\"fillmode\":\"overlay\",\"size\":10,\"solidity\":0.2}},\"type\":\"barpolar\"}],\"pie\":[{\"automargin\":true,\"type\":\"pie\"}]},\"layout\":{\"autotypenumbers\":\"strict\",\"colorway\":[\"#636efa\",\"#EF553B\",\"#00cc96\",\"#ab63fa\",\"#FFA15A\",\"#19d3f3\",\"#FF6692\",\"#B6E880\",\"#FF97FF\",\"#FECB52\"],\"font\":{\"color\":\"#2a3f5f\"},\"hovermode\":\"closest\",\"hoverlabel\":{\"align\":\"left\"},\"paper_bgcolor\":\"white\",\"plot_bgcolor\":\"#E5ECF6\",\"polar\":{\"bgcolor\":\"#E5ECF6\",\"angularaxis\":{\"gridcolor\":\"white\",\"linecolor\":\"white\",\"ticks\":\"\"},\"radialaxis\":{\"gridcolor\":\"white\",\"linecolor\":\"white\",\"ticks\":\"\"}},\"ternary\":{\"bgcolor\":\"#E5ECF6\",\"aaxis\":{\"gridcolor\":\"white\",\"linecolor\":\"white\",\"ticks\":\"\"},\"baxis\":{\"gridcolor\":\"white\",\"linecolor\":\"white\",\"ticks\":\"\"},\"caxis\":{\"gridcolor\":\"white\",\"linecolor\":\"white\",\"ticks\":\"\"}},\"coloraxis\":{\"colorbar\":{\"outlinewidth\":0,\"ticks\":\"\"}},\"colorscale\":{\"sequential\":[[0.0,\"#0d0887\"],[0.1111111111111111,\"#46039f\"],[0.2222222222222222,\"#7201a8\"],[0.3333333333333333,\"#9c179e\"],[0.4444444444444444,\"#bd3786\"],[0.5555555555555556,\"#d8576b\"],[0.6666666666666666,\"#ed7953\"],[0.7777777777777778,\"#fb9f3a\"],[0.8888888888888888,\"#fdca26\"],[1.0,\"#f0f921\"]],\"sequentialminus\":[[0.0,\"#0d0887\"],[0.1111111111111111,\"#46039f\"],[0.2222222222222222,\"#7201a8\"],[0.3333333333333333,\"#9c179e\"],[0.4444444444444444,\"#bd3786\"],[0.5555555555555556,\"#d8576b\"],[0.6666666666666666,\"#ed7953\"],[0.7777777777777778,\"#fb9f3a\"],[0.8888888888888888,\"#fdca26\"],[1.0,\"#f0f921\"]],\"diverging\":[[0,\"#8e0152\"],[0.1,\"#c51b7d\"],[0.2,\"#de77ae\"],[0.3,\"#f1b6da\"],[0.4,\"#fde0ef\"],[0.5,\"#f7f7f7\"],[0.6,\"#e6f5d0\"],[0.7,\"#b8e186\"],[0.8,\"#7fbc41\"],[0.9,\"#4d9221\"],[1,\"#276419\"]]},\"xaxis\":{\"gridcolor\":\"white\",\"linecolor\":\"white\",\"ticks\":\"\",\"title\":{\"standoff\":15},\"zerolinecolor\":\"white\",\"automargin\":true,\"zerolinewidth\":2},\"yaxis\":{\"gridcolor\":\"white\",\"linecolor\":\"white\",\"ticks\":\"\",\"title\":{\"standoff\":15},\"zerolinecolor\":\"white\",\"automargin\":true,\"zerolinewidth\":2},\"scene\":{\"xaxis\":{\"backgroundcolor\":\"#E5ECF6\",\"gridcolor\":\"white\",\"linecolor\":\"white\",\"showbackground\":true,\"ticks\":\"\",\"zerolinecolor\":\"white\",\"gridwidth\":2},\"yaxis\":{\"backgroundcolor\":\"#E5ECF6\",\"gridcolor\":\"white\",\"linecolor\":\"white\",\"showbackground\":true,\"ticks\":\"\",\"zerolinecolor\":\"white\",\"gridwidth\":2},\"zaxis\":{\"backgroundcolor\":\"#E5ECF6\",\"gridcolor\":\"white\",\"linecolor\":\"white\",\"showbackground\":true,\"ticks\":\"\",\"zerolinecolor\":\"white\",\"gridwidth\":2}},\"shapedefaults\":{\"line\":{\"color\":\"#2a3f5f\"}},\"annotationdefaults\":{\"arrowcolor\":\"#2a3f5f\",\"arrowhead\":0,\"arrowwidth\":1},\"geo\":{\"bgcolor\":\"white\",\"landcolor\":\"#E5ECF6\",\"subunitcolor\":\"white\",\"showland\":true,\"showlakes\":true,\"lakecolor\":\"white\"},\"title\":{\"x\":0.05},\"mapbox\":{\"style\":\"light\"}}},\"title\":{\"text\":\"<b> Total Assets Comparison over Time </b>\",\"x\":0.5},\"width\":1000,\"height\":700,\"paper_bgcolor\":\"white\",\"plot_bgcolor\":\"#fafafa\",\"hovermode\":\"closest\",\"xaxis\":{\"title\":{\"text\":\"Time\"}},\"yaxis\":{\"title\":{\"text\":\"Total Assets value (USD)\"}},\"showlegend\":true,\"annotations\":[{\"showarrow\":false,\"text\":\"Data Source: SEC-EDGAR\",\"x\":0.5,\"xref\":\"paper\",\"y\":-0.15,\"yref\":\"paper\"}]},                        {\"responsive\": true}                    ).then(function(){\n",
       "                            \n",
       "var gd = document.getElementById('a7e6275e-f1db-40f9-a68d-87e417588609');\n",
       "var x = new MutationObserver(function (mutations, observer) {{\n",
       "        var display = window.getComputedStyle(gd).display;\n",
       "        if (!display || display === 'none') {{\n",
       "            console.log([gd, 'removed!']);\n",
       "            Plotly.purge(gd);\n",
       "            observer.disconnect();\n",
       "        }}\n",
       "}});\n",
       "\n",
       "// Listen for the removal of the full notebook cells\n",
       "var notebookContainer = gd.closest('#notebook-container');\n",
       "if (notebookContainer) {{\n",
       "    x.observe(notebookContainer, {childList: true});\n",
       "}}\n",
       "\n",
       "// Listen for the clearing of the current output cell\n",
       "var outputEl = gd.closest('.output');\n",
       "if (outputEl) {{\n",
       "    x.observe(outputEl, {childList: true});\n",
       "}}\n",
       "\n",
       "                        })                };                });            </script>        </div>"
      ]
     },
     "metadata": {},
     "output_type": "display_data"
    }
   ],
   "source": [
    "# Put some titles on the graph\n",
    "\n",
    "fig.update_layout(\n",
    "    width=1000,\n",
    "    height=700,\n",
    "    paper_bgcolor='white',\n",
    "    plot_bgcolor='#fafafa',\n",
    "    hovermode='closest',\n",
    "    title= \"<b> Total Assets Comparison over Time </b>\", title_x = .5, \n",
    "    xaxis = dict(\n",
    "        title=\"Time\"\n",
    "    ),\n",
    "    yaxis = dict(\n",
    "        title=\"Total Assets value (USD)\"\n",
    "    ),  \n",
    "    showlegend=True,\n",
    "\n",
    "    annotations = [dict(xref='paper', yref='paper',\n",
    "                                        x=0.5, y=-0.15,\n",
    "                                        showarrow=False,\n",
    "                                        text ='Data Source: SEC-EDGAR')]\n",
    "\n",
    ")\n",
    "    \n",
    "fig.show()"
   ]
  },
  {
   "cell_type": "code",
   "execution_count": null,
   "id": "844eec0a",
   "metadata": {},
   "outputs": [],
   "source": []
  }
 ],
 "metadata": {
  "kernelspec": {
   "display_name": "Python 3 (ipykernel)",
   "language": "python",
   "name": "python3"
  },
  "language_info": {
   "codemirror_mode": {
    "name": "ipython",
    "version": 3
   },
   "file_extension": ".py",
   "mimetype": "text/x-python",
   "name": "python",
   "nbconvert_exporter": "python",
   "pygments_lexer": "ipython3",
   "version": "3.10.2"
  }
 },
 "nbformat": 4,
 "nbformat_minor": 5
}
